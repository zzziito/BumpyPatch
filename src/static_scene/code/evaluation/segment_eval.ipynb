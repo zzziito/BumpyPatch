{
 "cells": [
  {
   "cell_type": "code",
   "execution_count": 25,
   "metadata": {},
   "outputs": [
    {
     "name": "stdout",
     "output_type": "stream",
     "text": [
      "Class: 4\n",
      "Z Variance: 36.136871337890625 ± 38.48357391357422\n",
      "Class: 3\n",
      "Z Variance: 0.09521334618330002 ± 0.06317336857318878\n",
      "Class: 2\n",
      "Z Variance: 0.032967034727334976 ± 0.0721006914973259\n",
      "Class: 1\n",
      "Z Variance: 0.003929831553250551 ± 0.003880613949149847\n"
     ]
    }
   ],
   "source": [
    "import numpy as np\n",
    "import pandas as pd\n",
    "import pcl\n",
    "\n",
    "def load_pcd_to_numpy(pcd_path):\n",
    "    cloud = pcl.load(pcd_path)\n",
    "    return np.asarray(cloud)\n",
    "\n",
    "def compute_z_variance(pcd_data, min_x, max_x, min_y, max_y):\n",
    "    filtered_points = pcd_data[(pcd_data[:, 0] >= min_x) & (pcd_data[:, 0] <= max_x) &\n",
    "                               (pcd_data[:, 1] >= min_y) & (pcd_data[:, 1] <= max_y)]\n",
    "    z_values = filtered_points[:, 2]\n",
    "    variance = np.var(z_values)\n",
    "    return variance\n",
    "\n",
    "def main():\n",
    "    # Load PCD data\n",
    "    pcd_path = \"/home/rtlink/jiwon/socap_ws/src/final/BumpiPatch/result/point_cloud_sample_1/cropped3_final.pcd\"\n",
    "    pcd_data = load_pcd_to_numpy(pcd_path)\n",
    "    \n",
    "    # Load CSV data\n",
    "    csv_path = \"/home/rtlink/jiwon/socap_ws/src/final/BumpiPatch/result/point_cloud_sample_1/cropped3_final.csv\"\n",
    "    df = pd.read_csv(csv_path)\n",
    "\n",
    "    # Compute variance for each patch\n",
    "    result = {}\n",
    "    for index, row in df.iterrows():\n",
    "        variance = compute_z_variance(pcd_data, row['min_x'], row['max_x'], row['min_y'], row['max_y'])\n",
    "        class_name = row['class']\n",
    "        \n",
    "        if class_name not in result:\n",
    "            result[class_name] = []\n",
    "        result[class_name].append(variance)\n",
    "        \n",
    "    # Print results\n",
    "    for class_name, variances in result.items():\n",
    "        print(f\"Class: {class_name}\")\n",
    "        print(f\"Z Variance: {np.mean(variances)} ± {np.std(variances)}\")\n",
    "        \n",
    "if __name__ == \"__main__\":\n",
    "    main()\n"
   ]
  },
  {
   "cell_type": "code",
   "execution_count": 27,
   "metadata": {},
   "outputs": [
    {
     "name": "stdout",
     "output_type": "stream",
     "text": [
      "Class: 4\n",
      "Z Variance: 0.695554792881012 ± 2.409458875656128\n",
      "Class: 2\n",
      "Z Variance: 0.06936217844486237 ± 0.06885690242052078\n",
      "Class: 3\n",
      "Z Variance: 0.15170742571353912 ± 0.07738134264945984\n",
      "Class: 1\n",
      "Z Variance: 0.009609036147594452 ± 0.021006347611546516\n"
     ]
    }
   ],
   "source": [
    "def main():\n",
    "    # Load PCD data\n",
    "    pcd_path = \"/home/rtlink/jiwon/socap_ws/src/final/BumpiPatch/result/point_cloud_sample_3/gravel_quarry_final.pcd\"\n",
    "    pcd_data = load_pcd_to_numpy(pcd_path)\n",
    "    \n",
    "    # Load CSV data\n",
    "    csv_path = \"/home/rtlink/jiwon/socap_ws/src/final/BumpiPatch/result/point_cloud_sample_3/gravel_quarry_final.csv\"\n",
    "    df = pd.read_csv(csv_path)\n",
    "\n",
    "    # Compute variance for each patch\n",
    "    result = {}\n",
    "    for index, row in df.iterrows():\n",
    "        variance = compute_z_variance(pcd_data, row['min_x'], row['max_x'], row['min_y'], row['max_y'])\n",
    "        class_name = row['class']\n",
    "        \n",
    "        if class_name not in result:\n",
    "            result[class_name] = []\n",
    "        result[class_name].append(variance)\n",
    "        \n",
    "    # Print results\n",
    "    for class_name, variances in result.items():\n",
    "        print(f\"Class: {class_name}\")\n",
    "        print(f\"Z Variance: {np.mean(variances)} ± {np.std(variances)}\")\n",
    "        \n",
    "if __name__ == \"__main__\":\n",
    "    main()\n"
   ]
  },
  {
   "cell_type": "code",
   "execution_count": 2,
   "metadata": {},
   "outputs": [
    {
     "name": "stdout",
     "output_type": "stream",
     "text": [
      "Class: 4\n",
      "Residual: 3.6157360220134676 ± 3.1031753329853755\n",
      "Class: 3\n",
      "Residual: 0.1718975661855622 ± 0.06237137181468443\n",
      "Class: 2\n",
      "Residual: 0.07881418083746701 ± 0.07820823198161649\n",
      "Class: 1\n",
      "Residual: 0.036929414558946126 ± 0.01517940791382956\n"
     ]
    }
   ],
   "source": [
    "import numpy as np\n",
    "import pandas as pd\n",
    "import open3d as o3d\n",
    "from sklearn.linear_model import RANSACRegressor\n",
    "\n",
    "def load_pcd_to_numpy(pcd_path):\n",
    "    cloud = o3d.io.read_point_cloud(pcd_path)\n",
    "    return np.asarray(cloud.points)\n",
    "\n",
    "def compute_residual(pcd_data, min_x, max_x, min_y, max_y):\n",
    "    # Filter points within the patch\n",
    "    filtered_points = pcd_data[(pcd_data[:, 0] >= min_x) & (pcd_data[:, 0] <= max_x) &\n",
    "                               (pcd_data[:, 1] >= min_y) & (pcd_data[:, 1] <= max_y)]\n",
    "    \n",
    "    # Check if there are enough points for RANSAC\n",
    "    if len(filtered_points) < 10:  # or another threshold you consider appropriate\n",
    "        return np.nan\n",
    "\n",
    "    xy_values = filtered_points[:, :2]\n",
    "    z_values = filtered_points[:, 2]\n",
    "    \n",
    "    # RANSAC to find representative plane\n",
    "    ransac = RANSACRegressor()\n",
    "    ransac.fit(xy_values, z_values)\n",
    "    predicted_z = ransac.predict(xy_values)\n",
    "    \n",
    "    # Compute residuals\n",
    "    residuals = np.abs(predicted_z - z_values)\n",
    "    \n",
    "    return np.mean(residuals)\n",
    "\n",
    "\n",
    "def main():\n",
    "    # Load PCD data\n",
    "    pcd_path = \"/home/rtlink/jiwon/socap_ws/src/final/BumpiPatch/result/point_cloud_sample_1/cropped3_final.pcd\"\n",
    "    pcd_data = load_pcd_to_numpy(pcd_path)\n",
    "    \n",
    "    # Load CSV data\n",
    "    csv_path = \"/home/rtlink/jiwon/socap_ws/src/final/BumpiPatch/result/point_cloud_sample_1/cropped3_final.csv\"\n",
    "    df = pd.read_csv(csv_path)\n",
    "\n",
    "    # Compute residual for each patch\n",
    "    result = {}\n",
    "    for index, row in df.iterrows():\n",
    "        residual = compute_residual(pcd_data, row['min_x'], row['max_x'], row['min_y'], row['max_y'])\n",
    "        class_name = row['class']\n",
    "        \n",
    "        if class_name not in result:\n",
    "            result[class_name] = []\n",
    "        result[class_name].append(residual)\n",
    "        \n",
    "    # Print results\n",
    "    for class_name, residuals in result.items():\n",
    "        print(f\"Class: {class_name}\")\n",
    "        print(f\"Residual: {np.nanmean(residuals)} ± {np.nanstd(residuals)}\")  # using nanmean to handle potential NaNs\n",
    "        \n",
    "if __name__ == \"__main__\":\n",
    "    main()\n"
   ]
  },
  {
   "cell_type": "code",
   "execution_count": 3,
   "metadata": {},
   "outputs": [
    {
     "name": "stdout",
     "output_type": "stream",
     "text": [
      "Class: 4\n",
      "Residual: 0.17596661405673977 ± 0.3176224566710943\n",
      "Class: 2\n",
      "Residual: 0.09621773494475044 ± 0.06164230962966713\n",
      "Class: 3\n",
      "Residual: 0.09324939902251732 ± 0.059822804064348506\n",
      "Class: 1\n",
      "Residual: 0.03603795728456698 ± 0.01694290686705635\n"
     ]
    }
   ],
   "source": [
    "def main():\n",
    "    # Load PCD data\n",
    "    pcd_path = \"/home/rtlink/jiwon/socap_ws/src/final/BumpiPatch/result/point_cloud_sample_3/gravel_quarry_final.pcd\"\n",
    "    pcd_data = load_pcd_to_numpy(pcd_path)\n",
    "    \n",
    "    # Load CSV data\n",
    "    csv_path = \"/home/rtlink/jiwon/socap_ws/src/final/BumpiPatch/result/point_cloud_sample_3/gravel_quarry_final.csv\"\n",
    "    df = pd.read_csv(csv_path)\n",
    "\n",
    "    # Compute residual for each patch\n",
    "    result = {}\n",
    "    for index, row in df.iterrows():\n",
    "        residual = compute_residual(pcd_data, row['min_x'], row['max_x'], row['min_y'], row['max_y'])\n",
    "        class_name = row['class']\n",
    "        \n",
    "        if class_name not in result:\n",
    "            result[class_name] = []\n",
    "        result[class_name].append(residual)\n",
    "        \n",
    "    # Print results\n",
    "    for class_name, residuals in result.items():\n",
    "        print(f\"Class: {class_name}\")\n",
    "        print(f\"Residual: {np.nanmean(residuals)} ± {np.nanstd(residuals)}\")  # using nanmean to handle potential NaNs\n",
    "        \n",
    "if __name__ == \"__main__\":\n",
    "    main()"
   ]
  },
  {
   "cell_type": "code",
   "execution_count": 6,
   "metadata": {},
   "outputs": [
    {
     "name": "stdout",
     "output_type": "stream",
     "text": [
      "Class: 4, Percentage: 68.21%\n",
      "Class: 1, Percentage: 18.24%\n",
      "Class: 2, Percentage: 12.78%\n",
      "Class: 3, Percentage: 0.77%\n"
     ]
    }
   ],
   "source": [
    "import pandas as pd\n",
    "\n",
    "def compute_class_percentage(csv_path):\n",
    "    # Load CSV data\n",
    "    df = pd.read_csv(csv_path)\n",
    "    \n",
    "    # Calculate class percentages\n",
    "    class_counts = df['class'].value_counts()\n",
    "    class_percentages = class_counts / len(df) * 100\n",
    "    \n",
    "    return class_percentages\n",
    "\n",
    "def main():\n",
    "    csv_path = \"/home/rtlink/jiwon/socap_ws/src/final/BumpiPatch/result/point_cloud_sample_1/cropped3_final.csv\"\n",
    "    \n",
    "    percentages = compute_class_percentage(csv_path)\n",
    "    for class_name, percentage in percentages.items():\n",
    "        print(f\"Class: {class_name}, Percentage: {percentage:.2f}%\")\n",
    "        \n",
    "if __name__ == \"__main__\":\n",
    "    main()\n"
   ]
  }
 ],
 "metadata": {
  "kernelspec": {
   "display_name": "Python 3",
   "language": "python",
   "name": "python3"
  },
  "language_info": {
   "codemirror_mode": {
    "name": "ipython",
    "version": 3
   },
   "file_extension": ".py",
   "mimetype": "text/x-python",
   "name": "python",
   "nbconvert_exporter": "python",
   "pygments_lexer": "ipython3",
   "version": "3.8.10"
  },
  "orig_nbformat": 4
 },
 "nbformat": 4,
 "nbformat_minor": 2
}
