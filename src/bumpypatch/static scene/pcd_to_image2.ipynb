{
 "cells": [
  {
   "cell_type": "code",
   "execution_count": 25,
   "metadata": {},
   "outputs": [],
   "source": [
    "import numpy as np\n",
    "import cv2\n",
    "import os\n",
    "from sklearn.cluster import KMeans\n",
    "from sklearn.decomposition import PCA\n",
    "import math\n",
    "import open3d as o3d\n",
    "import plotly.graph_objects as go\n",
    "import matplotlib.pyplot as plt\n",
    "from sklearn.linear_model import RANSACRegressor\n",
    "from sklearn.cluster import KMeans\n",
    "from scipy.optimize import minimize\n",
    "from pathlib import Path\n"
   ]
  },
  {
   "cell_type": "code",
   "execution_count": 6,
   "metadata": {},
   "outputs": [],
   "source": [
    "def calculate_normal_vector(points):\n",
    "    pca = PCA(n_components=3)\n",
    "    pca.fit(points)\n",
    "    normal_vector = pca.components_[-1]  # The normal vector is the eigenvector with the smallest eigenvalue\n",
    "\n",
    "    normal_vector = np.array(normal_vector)\n",
    "    angle_with_x_axis = np.arccos(np.dot(normal_vector, [1, 0, 0]))\n",
    "    angle_with_y_axis = np.arccos(np.dot(normal_vector, [0, 1, 0]))\n",
    "    angle_with_z_axis = np.arccos(np.dot(normal_vector, [0, 0, 1]))\n",
    "    normal_vector = [angle_with_x_axis, angle_with_y_axis, angle_with_z_axis]\n",
    "    # print(normal_vector)\n",
    "    return normal_vector\n",
    "\n",
    "def angle_with_z_axis(vector):\n",
    "    vector = vector / np.linalg.norm(vector)\n",
    "    return np.arccos(np.dot(vector, [0, 0, -1]))"
   ]
  },
  {
   "cell_type": "code",
   "execution_count": 5,
   "metadata": {},
   "outputs": [],
   "source": [
    "def xy2radius(x, y):\n",
    "    return math.sqrt(x**2 + y**2)\n",
    "\n",
    "def xy2theta(x, y):\n",
    "    return math.atan2(y, x)"
   ]
  },
  {
   "cell_type": "code",
   "execution_count": 7,
   "metadata": {},
   "outputs": [],
   "source": [
    "def apply_gabor_filter(image, ksize=13, sigma=1, theta=0, lambd=7, gamma=0.5):\n",
    "    kernel = cv2.getGaborKernel((ksize, ksize), sigma, theta, lambd, gamma)\n",
    "    return cv2.filter2D(image, cv2.CV_32F, kernel)\n",
    "\n",
    "def cluster_images(images, n_clusters):\n",
    "    flattened_images = [img.flatten() for img in images]\n",
    "    kmeans = KMeans(n_clusters=n_clusters).fit(flattened_images)\n",
    "    return kmeans.labels_, kmeans.cluster_centers_"
   ]
  },
  {
   "cell_type": "code",
   "execution_count": 248,
   "metadata": {},
   "outputs": [],
   "source": [
    "class Zone:\n",
    "    def __init__(self):\n",
    "        self.points = []\n",
    "\n",
    "class CZM:\n",
    "    def __init__(self, pcd_file_path):\n",
    "        self.pcd_file_path = pcd_file_path\n",
    "        self.point_cloud = None\n",
    "\n",
    "        # Define range parameters\n",
    "        self.min_range_ = 4\n",
    "        self.min_range_z2_ = 12\n",
    "        self.min_range_z3_ = 28\n",
    "        self.min_range_z4_ = 60\n",
    "        self.max_range_ = 100.0\n",
    "        self.min_ranges_ = [self.min_range_, self.min_range_z2_, self.min_range_z3_, self.min_range_z4_]\n",
    "\n",
    "        # Define zone, sector, and ring parameters\n",
    "        self.num_zones = 4\n",
    "        self.num_sectors_each_zone = [72, 48, 48, 64]\n",
    "        self.num_rings_each_zone = [4, 4, 5, 5]\n",
    "        self.ring_sizes_ = [\n",
    "            (self.min_range_z2_ - self.min_range_) / self.num_rings_each_zone[0],\n",
    "            (self.min_range_z3_ - self.min_range_z2_) / self.num_rings_each_zone[1],\n",
    "            (self.min_range_z4_ - self.min_range_z3_) / self.num_rings_each_zone[2],\n",
    "            (self.max_range_ - self.min_range_z4_) / self.num_rings_each_zone[3]\n",
    "        ]\n",
    "        self.sector_sizes_ = [\n",
    "            2 * math.pi / self.num_sectors_each_zone[0],\n",
    "            2 * math.pi / self.num_sectors_each_zone[1],\n",
    "            2 * math.pi / self.num_sectors_each_zone[2],\n",
    "            2 * math.pi / self.num_sectors_each_zone[3]\n",
    "        ]\n",
    "        \n",
    "        self.images_to_cluster = []\n",
    "        self.labels = []\n",
    "        self.max_stripes_list = []\n",
    "\n",
    "        # Load point cloud\n",
    "        self.load_point_cloud()\n",
    "        \n",
    "    def load_point_cloud(self):\n",
    "        pcd = o3d.io.read_point_cloud(self.pcd_file_path)\n",
    "        all_points = np.asarray(pcd.points)\n",
    "        z_values = [pt[2] for pt in all_points]\n",
    "        min_z = min(z_values)\n",
    "        max_z = max(z_values)\n",
    "        \n",
    "        # 해당 값을 나중에 다른 메서드에서 사용하기 위해 인스턴스 변수로 저장\n",
    "        self.point_cloud = all_points\n",
    "        self.min_z = min_z\n",
    "        self.max_z = max_z\n",
    "        print(min_z, max_z)\n",
    "\n",
    "        # 원본 포인트 클라우드를 시각화\n",
    "        # o3d.visualization.draw_geometries([pcd])\n",
    "        \n",
    "    def calculate_normal_vector(self, points):\n",
    "        pca = PCA(n_components=3)\n",
    "        pca.fit(points)\n",
    "        normal_vector = pca.components_[-1]\n",
    "\n",
    "        normal_vector = np.array(normal_vector)\n",
    "        angle_with_x_axis = np.arccos(np.dot(normal_vector, [1, 0, 0]))\n",
    "        angle_with_y_axis = np.arccos(np.dot(normal_vector, [0, 1, 0]))\n",
    "        angle_with_z_axis = np.arccos(np.dot(normal_vector, [0, 0, 1]))\n",
    "        normal_vector = [angle_with_x_axis, angle_with_y_axis, angle_with_z_axis]\n",
    "        # print(normal_vector)\n",
    "        return normal_vector\n",
    "\n",
    "    def angle_with_z_axis(self, vector):\n",
    "        vector = vector / np.linalg.norm(vector)\n",
    "        return np.arccos(np.dot(vector, [0, 0, -1]))\n",
    "\n",
    "    # def apply_gabor_filter(self, image, ksize=7, sigma=1, theta=0, lambd=7, gamma=0.5):\n",
    "    #     kernel = cv2.getGaborKernel((ksize, ksize), sigma, theta, lambd, gamma)\n",
    "    #     # return cv2.filter2D(image, cv2.CV_32F, kernel)\n",
    "    #     return cv2.filter2D(image, -1, kernel)\n",
    "        \n",
    "    def apply_gabor_filter(self,image, angle):\n",
    "        ksize = 15\n",
    "        sigma = 5\n",
    "        lambd = 3\n",
    "        gamma = 0.5\n",
    "        psi = 0  # phase offset\n",
    "        theta = angle * np.pi / 8\n",
    "\n",
    "        gabor_filter = cv2.getGaborKernel((ksize, ksize), sigma, theta, lambd, gamma, psi)\n",
    "        \n",
    "        filtered_image = cv2.filter2D(image, cv2.CV_8UC3, gabor_filter)\n",
    "\n",
    "        # 임계값 설정 및 스트라이프 영역 검출\n",
    "        threshold = np.max(filtered_image) * 0.9\n",
    "        stripe_regions = filtered_image > threshold\n",
    "        stripe_image = np.uint8(stripe_regions * 255)\n",
    "\n",
    "        return stripe_image\n",
    "        # return filtered_image\n",
    "\n",
    "    def count_stripes(self,image, min_length=5):\n",
    "        contours, _ = cv2.findContours(image, cv2.RETR_EXTERNAL, cv2.CHAIN_APPROX_SIMPLE)\n",
    "        \n",
    "        count = 0\n",
    "        for contour in contours:\n",
    "            length = cv2.arcLength(contour, True) # 외곽선의 길이 계산\n",
    "            if length > min_length: # 길이가 임계값보다 크면 카운트\n",
    "                count += 1\n",
    "        return count\n",
    "\n",
    "    # def extract_features(self, image):\n",
    "    #     features = []\n",
    "\n",
    "    #     for angle in range(8):\n",
    "    #         filtered_image = self.apply_gabor_filter(image, angle)\n",
    "    #         features.append(np.mean(filtered_image))\n",
    "    #         features.append(np.std(filtered_image))\n",
    "    #     return features\n",
    "\n",
    "    def extract_features(self, image, image_sector_index):\n",
    "        max_stripes = 0\n",
    "        best_image = None\n",
    "\n",
    "        for angle in range(8):\n",
    "            filtered_image = self.apply_gabor_filter(image, angle)\n",
    "            num_stripes = self.count_stripes(filtered_image)\n",
    "            if num_stripes > max_stripes:\n",
    "                max_stripes = num_stripes\n",
    "                best_image = filtered_image\n",
    "\n",
    "        if best_image is not None:\n",
    "            # print(max_stripes)\n",
    "            \n",
    "            self.images_to_cluster.append(best_image.flatten())\n",
    "            self.labels.append(image_sector_index)\n",
    "            self.max_stripes_list.append(max_stripes)\n",
    "        else :\n",
    "            best_image = np.zeros((15, 15), dtype=np.uint8)\n",
    "            self.images_to_cluster.append(best_image.flatten())\n",
    "            self.labels.append(image_sector_index)\n",
    "            self.max_stripes_list.append(max_stripes)\n",
    "\n",
    "    def remove_specific_pattern(self, image, threshold):\n",
    "        # 패딩 추가 (상, 하, 좌, 우 1픽셀씩)\n",
    "        padded_image = np.pad(image, pad_width=1, mode='constant', constant_values=0)\n",
    "\n",
    "        # 원래 이미지와 패딩된 이미지의 차이 계산 (상하좌우)\n",
    "        diff_up = padded_image[:-2, 1:-1] - padded_image[1:-1, 1:-1]\n",
    "        diff_down = padded_image[2:, 1:-1] - padded_image[1:-1, 1:-1]\n",
    "        diff_left = padded_image[1:-1, :-2] - padded_image[1:-1, 1:-1]\n",
    "        diff_right = padded_image[1:-1, 2:] - padded_image[1:-1, 1:-1]\n",
    "\n",
    "        # 조건에 맞는 픽셀 찾기 (상하좌우 차이가 모두 threshold보다 큰 경우)\n",
    "        condition = (diff_up > threshold) & (diff_down > threshold) & (diff_left > threshold) & (diff_right > threshold)\n",
    "\n",
    "        # 조건에 맞는 픽셀을 0으로 설정\n",
    "        result_image = np.copy(image)\n",
    "        result_image[condition] = 0\n",
    "\n",
    "        return result_image\n",
    "\n",
    "    # def count_stripes(self, image, theta):\n",
    "    #     filtered_image = self.apply_gabor_filter(image, ksize=13, sigma=1, theta=theta, lambd=7, gamma=0.5)\n",
    "    #     local_maxima = (filtered_image == cv2.dilate(filtered_image, np.ones((3,3))))\n",
    "    #     return np.sum(local_maxima)\n",
    "    # def count_stripes(self, image, theta):\n",
    "    #     filtered_image = self.apply_gabor_filter(image, ksize=15, sigma=15, theta=theta, lambd=2, gamma=1)\n",
    "    #     local_maxima = (filtered_image == cv2.dilate(filtered_image, np.ones((3,3))))\n",
    "    #     total_stripes = np.sum(local_maxima)\n",
    "    #     if total_stripes == 0:\n",
    "    #         return 0, None  # 또는 적절한 이미지로 대체 가능합니다.\n",
    "    #     return total_stripes, filtered_image\n",
    "\n",
    "\n",
    "    # def count_stripes(self, image, theta):\n",
    "    #     ksizes = [3, 5, 7, 9, 11, 13]\n",
    "    #     lambdas = [0.1,0.5,1,3,5,7,9]\n",
    "    #     thetas = [np.pi * i / 4 for i in range(8)]\n",
    "    #     total_stripes_all = []\n",
    "\n",
    "    #     for ksize in ksizes:\n",
    "    #         for lambd in lambdas:\n",
    "    #             for theta in thetas:\n",
    "    #                 filtered_image = self.apply_gabor_filter(image, ksize=ksize, sigma=15, theta=theta, lambd=lambd, gamma=1)\n",
    "    #                 local_maxima = (filtered_image == cv2.dilate(filtered_image, np.ones((3,3))))\n",
    "    #                 total_stripes = np.sum(local_maxima)\n",
    "    #                 total_stripes_all.append(total_stripes)\n",
    "\n",
    "    #     if all(stripe == 0 for stripe in total_stripes_all):\n",
    "    #         return 0, None\n",
    "    #     return total_stripes_all, filtered_image\n",
    "\n",
    "\n",
    "    # def analyze_cluster(self, cluster_images):\n",
    "    #     thetas = [np.pi * i / 4 for i in range(8)]\n",
    "    #     stripe_counts = [np.mean([self.count_stripes(img, theta=t) for t in thetas]) for img in cluster_images]\n",
    "    #     return np.mean(stripe_counts)\n",
    "\n",
    "    def analyze_cluster(self, labels, cluster_label):\n",
    "        cluster_stripes = [stripe for idx, stripe in enumerate(self.max_stripes_list) if labels[idx] == cluster_label]\n",
    "        if cluster_stripes:\n",
    "            mean_stripe_count = np.mean(cluster_stripes)\n",
    "        else:\n",
    "            mean_stripe_count = 0\n",
    "        return mean_stripe_count\n",
    "\n",
    "\n",
    "    def segment_czm(self):\n",
    "        ring_sizes_ = [(self.min_range_z2_ - self.min_range_) / self.num_rings_each_zone[0],\n",
    "                    (self.min_range_z3_ - self.min_range_z2_) / self.num_rings_each_zone[1],\n",
    "                    (self.min_range_z4_ - self.min_range_z3_) / self.num_rings_each_zone[2],\n",
    "                    (self.max_range_ - self.min_range_z4_) / self.num_rings_each_zone[3]]\n",
    "\n",
    "        sector_sizes_ = [2 * math.pi / self.num_sectors_each_zone[0], \n",
    "                        2 * math.pi / self.num_sectors_each_zone[1], \n",
    "                        2 * math.pi / self.num_sectors_each_zone[2], \n",
    "                        2 * math.pi / self.num_sectors_each_zone[3]]\n",
    "\n",
    "        sector_indices = [] \n",
    "\n",
    "        czm = [[\n",
    "            [Zone() for _ in range(self.num_sectors_each_zone[zone_idx])]\n",
    "            for _ in range(self.num_rings_each_zone[zone_idx])\n",
    "        ] for zone_idx in range(self.num_zones)]\n",
    "\n",
    "        for pt in self.point_cloud:\n",
    "            x, y, z = pt\n",
    "            r = xy2radius(x, y)\n",
    "            if r <= self.max_range_ and r > self.min_range_:\n",
    "                theta = xy2theta(x, y)\n",
    "                zone_idx = ring_idx = sector_idx = 0\n",
    "\n",
    "                if r < self.min_range_z2_:\n",
    "                    zone_idx = 0\n",
    "                    ring_idx = min(int((r - self.min_range_) / ring_sizes_[0]), self.num_rings_each_zone[0]-1)\n",
    "                    sector_idx = min(int(theta / sector_sizes_[0]), self.num_sectors_each_zone[0]-1)\n",
    "                    czm[zone_idx][ring_idx][sector_idx].points.append([x, y, z])\n",
    "                elif r < self.min_range_z3_:\n",
    "                    zone_idx = 1\n",
    "                    ring_idx = min(int((r - self.min_range_z2_) / ring_sizes_[1]), self.num_rings_each_zone[1]-1)\n",
    "                    sector_idx = min(int(theta / sector_sizes_[1]), self.num_sectors_each_zone[1]-1)\n",
    "                    czm[zone_idx][ring_idx][sector_idx].points.append([x, y, z])\n",
    "                elif r < self.min_range_z4_:\n",
    "                    zone_idx = 2\n",
    "                    ring_idx = min(int((r - self.min_range_z3_) / ring_sizes_[2]), self.num_rings_each_zone[2]-1)\n",
    "                    sector_idx = min(int(theta / sector_sizes_[2]), self.num_sectors_each_zone[2]-1)\n",
    "                    czm[zone_idx][ring_idx][sector_idx].points.append([x, y, z])\n",
    "                else:\n",
    "                    zone_idx = 3\n",
    "                    ring_idx = min(int((r - self.min_range_z4_) / ring_sizes_[3]), self.num_rings_each_zone[3]-1)\n",
    "                    sector_idx = min(int(theta / sector_sizes_[3]), self.num_sectors_each_zone[3]-1)\n",
    "                    czm[zone_idx][ring_idx][sector_idx].points.append([x, y, z])\n",
    "                    \n",
    "                czm[zone_idx][ring_idx][sector_idx].points.append([x, y, z])\n",
    "                sector_indices.append((zone_idx, ring_idx, sector_idx)) # 인덱스 추가\n",
    "        return czm, sector_indices\n",
    "        #sector_indices 는 각 포인트마다 몇 번째 섹터에 속하는지 나타냄. \n",
    "\n",
    "    def process_sectors(self, sectors, img_dim=15, MIN_POINTS=10, MAX_Z_DIFF=0.8): # MAX_Z_DIFF 파라미터 추가\n",
    "        images = []\n",
    "        traversable_points = []\n",
    "        all_image_vectors = []\n",
    "        image_sector_indices = []\n",
    "\n",
    "        for zone_idx, layer in enumerate(sectors):\n",
    "            for ring_idx, ring in enumerate(layer):\n",
    "                for sector_idx, sector in enumerate(ring):\n",
    "                    if len(sector.points) > MIN_POINTS:\n",
    "                        points = np.array([pt[:3] for pt in sector.points])\n",
    "                        normal_vector = calculate_normal_vector(points)\n",
    "\n",
    "                        sector_center_x = np.mean(points[:, 0])\n",
    "                        sector_center_y = np.mean(points[:, 1])\n",
    "                        sector_center_z = np.mean(points[:, 2])\n",
    "\n",
    "                        z_values = [pt[2] for pt in sector.points]\n",
    "                        min_z, max_z = min(z_values), max(z_values)\n",
    "\n",
    "                        # z 좌표의 최대값과 최소값의 차이가 일정 이하인 경우만 처리\n",
    "                        if angle_with_z_axis(normal_vector) >= 1.1 and angle_with_z_axis(normal_vector) <= 1.9 and (max_z - min_z) <= MAX_Z_DIFF:\n",
    "                            traversable_points.extend(points)\n",
    "                            image = np.zeros((img_dim, img_dim), dtype=np.uint8)\n",
    "\n",
    "                            x_values = [pt[0] for pt in sector.points]\n",
    "                            y_values = [pt[1] for pt in sector.points]\n",
    "\n",
    "                            min_x, max_x = min(x_values), max(x_values)\n",
    "                            min_y, max_y = min(y_values), max(y_values)\n",
    "\n",
    "                            for pt in sector.points:\n",
    "                                normalized_x = int((pt[0] - min_x) / (max_x - min_x) * (img_dim - 1))\n",
    "                                normalized_y = int((pt[1] - min_y) / (max_y - min_y) * (img_dim - 1))\n",
    "                                normalized_z = int((pt[2] - min_z) / (max_z - min_z) * 255)\n",
    "\n",
    "                                image[normalized_y, normalized_x] = normalized_z\n",
    "\n",
    "                            image_2d = image.reshape(img_dim, img_dim)\n",
    "                            image_2d = self.remove_specific_pattern(image_2d,15)\n",
    "\n",
    "                            images.append(image_2d)\n",
    "                            image_sector_indices.append((zone_idx, ring_idx, sector_idx)) # 해당 이미지의 sector 인덱스 추가\n",
    "\n",
    "                            image_vector = image_2d.reshape(-1, 1)\n",
    "                            all_image_vectors.append(image_vector)\n",
    "\n",
    "        return images, image_sector_indices\n",
    "\n",
    "    def visualize_clusters(self, images, sector_indices, n_clusters, base_output_folder):\n",
    "        for img, sector_index in zip(images, sector_indices):\n",
    "            self.extract_features(img, sector_index)\n",
    "        print(\"length of images :\", len(images))     \n",
    "        print(\"length of mst : \" , len(self.max_stripes_list))  \n",
    "        print(self.max_stripes_list)\n",
    "\n",
    "        kmeans = KMeans(n_clusters=n_clusters).fit(np.array(self.max_stripes_list).reshape(-1, 1))\n",
    "        # kmeans = KMeans(n_clusters=n_clusters).fit(X)\n",
    "        # stripe_counts = [self.analyze_cluster([img])[0] for img in images]\n",
    "\n",
    "        sector_cluster_mapping = {}\n",
    "\n",
    "        # Save images to clusters\n",
    "        for i, label in enumerate(kmeans.labels_):\n",
    "            max_stripes = self.max_stripes_list[i]\n",
    "            best_image = self.images_to_cluster[i].reshape(images[i].shape)\n",
    "            combined_image = np.hstack((images[i], best_image))\n",
    "\n",
    "            cluster_path = os.path.join(base_output_folder, f\"cluster_{label}\")\n",
    "            save_path = os.path.join(cluster_path, f\"{label}_stripes_{max_stripes}_{i}.png\")  # 파일 이름에 max_stripes 추가\n",
    "            if not os.path.exists(cluster_path):\n",
    "                os.makedirs(cluster_path)\n",
    "            # cv2.imwrite(os.path.join(cluster_path, f\"image_{i}.png\"), images[i])\n",
    "            # cv2.imwrite(save_path, combined_image)\n",
    "\n",
    "            # Map sector indices to clusters\n",
    "            sector_index = sector_indices[i]\n",
    "            sector_cluster_mapping[sector_index] = label\n",
    "\n",
    "        # Analyze clusters\n",
    "        cluster_stripe_counts = {}\n",
    "        for i in range(n_clusters):\n",
    "            cluster_images = [img for idx, img in enumerate(images) if kmeans.labels_[idx] == i]\n",
    "            cluster_stripe_counts = {i: self.analyze_cluster(kmeans.labels_, i) for i in range(n_clusters)}\n",
    "\n",
    "        # Sort clusters by mean stripe count\n",
    "        sorted_clusters = sorted(cluster_stripe_counts.items(), key=lambda x: x[1], reverse=True)\n",
    "        print(sorted_clusters)\n",
    "\n",
    "        # Visualize clusters\n",
    "        for cluster_index, _ in sorted_clusters:\n",
    "            cluster_path = os.path.join(base_output_folder, f\"cluster_{cluster_index}\")\n",
    "            image_files = [os.path.join(cluster_path, f) for f in os.listdir(cluster_path) if os.path.isfile(os.path.join(cluster_path, f))]\n",
    "            images = [cv2.imread(f, cv2.IMREAD_GRAYSCALE) for f in image_files]\n",
    "\n",
    "            # plt.figure(figsize=(10, 10))\n",
    "            # for idx, img in enumerate(images[:16]): # Displaying the first 16 images from each cluster\n",
    "            #     plt.subplot(4, 4, idx + 1)\n",
    "            #     plt.imshow(img, cmap='gray')\n",
    "            #     plt.axis('off')\n",
    "\n",
    "            # plt.suptitle(f\"Cluster {cluster_index}\")\n",
    "            # plt.show()\n",
    "        # print(\"Clusters have been visualized by stripe pattern repetition.\")\n",
    "\n",
    "        # for i in range(n_clusters):\n",
    "        #     cluster_images = [img for idx, img in enumerate(images) if kmeans.labels_[idx] == i]\n",
    "        #     # cluster_stripe_count_mean = self.analyze_cluster(cluster_images)\n",
    "        #     print(f\"Cluster {i} Mean Stripe Count: {cluster_stripe_count_mean}\")\n",
    "\n",
    "        #     # # Show only first 5 Gabor-filtered images per cluster\n",
    "        #     # for idx, gabor_image in enumerate(gabor_images[:5]):\n",
    "        #     #     plt.imshow(gabor_image, cmap='gray')\n",
    "        #     #     plt.title(f'Cluster {i} Gabor Image {idx}')\n",
    "        #     #     plt.show()\n",
    "        return sorted_clusters, sector_cluster_mapping\n",
    "\n",
    "    def calculate_cluster_z_variance(self, sectors, sector_cluster_mapping):\n",
    "        cluster_z_variances = {}\n",
    "        cluster_z_variance_means = {}  # 클러스터별 z 분산의 평균을 저장할 딕셔너리\n",
    "\n",
    "        # 클러스터별 z 값 분산을 계산\n",
    "        for zone_idx, zone in enumerate(sectors):\n",
    "            for ring_idx, ring in enumerate(zone):\n",
    "                for sector_idx, sector in enumerate(ring):\n",
    "                    cluster_label = sector_cluster_mapping.get((zone_idx, ring_idx, sector_idx))\n",
    "                    if cluster_label is not None:\n",
    "                        z_values = [pt[2] for pt in sector.points]\n",
    "                        z_variance = np.var(z_values)\n",
    "\n",
    "                        if cluster_label not in cluster_z_variances:\n",
    "                            cluster_z_variances[cluster_label] = []\n",
    "\n",
    "                        cluster_z_variances[cluster_label].append(z_variance)\n",
    "\n",
    "        # 클러스터별로 그래프 그리기\n",
    "        for cluster_label, variances in cluster_z_variances.items():\n",
    "            # Removing outliers\n",
    "            Q1 = np.percentile(variances, 10)\n",
    "            Q3 = np.percentile(variances, 90)\n",
    "            IQR = Q3 - Q1\n",
    "            lower_bound = Q1 - 1.5 * IQR\n",
    "            upper_bound = Q3 + 1.5 * IQR\n",
    "            filtered_variances = [v for v in variances if v >= lower_bound and v <= upper_bound]\n",
    "\n",
    "            # plt.figure(figsize=(10, 4))\n",
    "            # plt.bar(range(len(filtered_variances)), filtered_variances)\n",
    "            # plt.xlabel('Sector')\n",
    "            # plt.ylabel('Z Variance')\n",
    "            # plt.title(f'Cluster {cluster_label} - Z Variance by Sector (Outliers Removed)')\n",
    "            # plt.show()\n",
    "\n",
    "            # 클러스터별 z 분산의 평균 계산\n",
    "            cluster_z_variance_means[cluster_label] = np.mean(filtered_variances)\n",
    "\n",
    "        cluster_z_variance_means = sorted(cluster_z_variance_means.items(), key=lambda x: x[1])\n",
    "        print(cluster_z_variance_means)\n",
    "        return cluster_z_variance_means\n"
   ]
  },
  {
   "cell_type": "code",
   "execution_count": 249,
   "metadata": {},
   "outputs": [
    {
     "name": "stdout",
     "output_type": "stream",
     "text": [
      "-1.6572240591049194 5.804795742034912\n"
     ]
    }
   ],
   "source": [
    "pcd_file_path = \"/media/rtlink/JetsonSSD-256/Download/Rellis_3D_os1_cloud_node_color_ply/Rellis-3D/00000/os1_cloud_node_color_ply/pcd_files/frame001896-1581624842_364.pcd\"\n",
    "czm = CZM(pcd_file_path) # Zone 대신 CZM 클래스를 사용"
   ]
  },
  {
   "cell_type": "code",
   "execution_count": 250,
   "metadata": {},
   "outputs": [],
   "source": [
    "sectors, sector_indices = czm.segment_czm() # 인스턴스 czm을 통해 메서드를 호출하고, sector_indices도 받습니다."
   ]
  },
  {
   "cell_type": "code",
   "execution_count": 251,
   "metadata": {},
   "outputs": [],
   "source": [
    "images, image_sector_indices = czm.process_sectors(sectors) # 인스턴스 czm을 통해 메서드를 호출하고, image_sector_indices도 받습니다."
   ]
  },
  {
   "cell_type": "code",
   "execution_count": 252,
   "metadata": {},
   "outputs": [
    {
     "name": "stdout",
     "output_type": "stream",
     "text": [
      "length of images : 29\n",
      "length of mst :  29\n",
      "[6, 5, 7, 5, 8, 8, 6, 8, 6, 5, 6, 7, 7, 4, 5, 2, 5, 8, 6, 7, 3, 6, 7, 1, 5, 5, 4, 5, 1]\n",
      "[(1, 7.444444444444445), (0, 5.25), (2, 1.75)]\n"
     ]
    },
    {
     "name": "stderr",
     "output_type": "stream",
     "text": [
      "/home/rtlink/anaconda3/lib/python3.10/site-packages/sklearn/cluster/_kmeans.py:870: FutureWarning: The default value of `n_init` will change from 10 to 'auto' in 1.4. Set the value of `n_init` explicitly to suppress the warning\n",
      "  warnings.warn(\n"
     ]
    }
   ],
   "source": [
    "sorted_clusters, sector_cluster_mapping = czm.visualize_clusters(images, image_sector_indices, n_clusters=3, base_output_folder='output_clusters') # 인스턴스 czm을 통해 메서드를 호출"
   ]
  },
  {
   "cell_type": "code",
   "execution_count": 253,
   "metadata": {},
   "outputs": [
    {
     "name": "stdout",
     "output_type": "stream",
     "text": [
      "[(1, 0.0011475111735187022), (0, 0.0020327932502873865), (2, 0.023261160205678658)]\n"
     ]
    }
   ],
   "source": [
    "mean_cluster_z_variances = czm.calculate_cluster_z_variance(sectors, sector_cluster_mapping)"
   ]
  },
  {
   "cell_type": "code",
   "execution_count": 259,
   "metadata": {},
   "outputs": [
    {
     "name": "stdout",
     "output_type": "stream",
     "text": [
      "-2.383615493774414 6.761868000030518\n",
      "length of images : 17\n",
      "length of mst :  17\n",
      "[3, 6, 9, 3, 7, 6, 6, 4, 5, 7, 7, 6, 9, 3, 5, 6, 2]\n",
      "[(2, 9.0), (0, 6.1), (1, 3.0)]\n",
      "[(2, 0.0005381917081214545), (0, 0.0018443671703626883), (1, 0.003989699841962877)]\n",
      "[2, 0, 1]\n",
      "[2, 0, 1]\n",
      "-2.495469331741333 7.282830715179443\n"
     ]
    },
    {
     "name": "stderr",
     "output_type": "stream",
     "text": [
      "/home/rtlink/anaconda3/lib/python3.10/site-packages/sklearn/cluster/_kmeans.py:870: FutureWarning: The default value of `n_init` will change from 10 to 'auto' in 1.4. Set the value of `n_init` explicitly to suppress the warning\n",
      "  warnings.warn(\n"
     ]
    },
    {
     "name": "stdout",
     "output_type": "stream",
     "text": [
      "length of images : 44\n",
      "length of mst :  44\n",
      "[7, 7, 6, 6, 6, 6, 7, 7, 5, 6, 5, 5, 6, 5, 5, 4, 5, 7, 6, 6, 7, 4, 7, 7, 6, 6, 5, 6, 6, 6, 5, 6, 6, 7, 3, 8, 4, 5, 5, 7, 4, 7, 6, 3]\n",
      "[(2, 7.083333333333333), (0, 5.615384615384615), (1, 3.6666666666666665)]\n",
      "[(2, 0.0011019100334224467), (0, 0.002277702733388997), (1, 0.019936472834647122)]\n",
      "[2, 0, 1]\n",
      "[2, 0, 1]\n",
      "-3.5213091373443604 7.311774730682373\n"
     ]
    },
    {
     "name": "stderr",
     "output_type": "stream",
     "text": [
      "/home/rtlink/anaconda3/lib/python3.10/site-packages/sklearn/cluster/_kmeans.py:870: FutureWarning: The default value of `n_init` will change from 10 to 'auto' in 1.4. Set the value of `n_init` explicitly to suppress the warning\n",
      "  warnings.warn(\n"
     ]
    },
    {
     "name": "stdout",
     "output_type": "stream",
     "text": [
      "length of images : 190\n",
      "length of mst :  190\n",
      "[6, 6, 7, 5, 4, 5, 8, 7, 7, 8, 5, 5, 4, 4, 7, 2, 5, 4, 4, 6, 4, 7, 7, 5, 5, 7, 6, 6, 4, 5, 7, 5, 5, 6, 7, 5, 4, 5, 6, 5, 4, 5, 3, 6, 2, 7, 4, 4, 6, 5, 6, 6, 5, 5, 5, 5, 8, 5, 4, 5, 6, 5, 6, 8, 8, 6, 6, 6, 7, 8, 7, 5, 7, 6, 6, 6, 4, 7, 4, 6, 5, 5, 5, 6, 6, 7, 5, 6, 6, 7, 7, 5, 5, 5, 6, 5, 6, 7, 8, 6, 5, 5, 5, 6, 6, 4, 3, 7, 6, 6, 6, 6, 6, 3, 4, 5, 5, 5, 5, 5, 5, 5, 6, 5, 6, 5, 8, 6, 5, 6, 5, 6, 6, 9, 5, 6, 6, 6, 6, 9, 5, 4, 3, 5, 4, 5, 7, 7, 3, 3, 6, 1, 6, 6, 5, 5, 8, 5, 6, 3, 4, 5, 4, 6, 6, 4, 6, 6, 6, 5, 3, 5, 3, 4, 4, 3, 5, 4, 5, 7, 3, 4, 7, 5, 3, 1, 1, 3, 3, 3]\n",
      "[(0, 7.382352941176471), (1, 5.4774774774774775), (2, 3.3777777777777778)]\n",
      "[(0, 0.0006310881316838135), (1, 0.001812468207364933), (2, 0.003437316738605002)]\n",
      "[0, 1, 2]\n",
      "[0, 1, 2]\n",
      "-3.0920188426971436 7.2586164474487305\n"
     ]
    },
    {
     "name": "stderr",
     "output_type": "stream",
     "text": [
      "/home/rtlink/anaconda3/lib/python3.10/site-packages/sklearn/cluster/_kmeans.py:870: FutureWarning: The default value of `n_init` will change from 10 to 'auto' in 1.4. Set the value of `n_init` explicitly to suppress the warning\n",
      "  warnings.warn(\n"
     ]
    },
    {
     "name": "stdout",
     "output_type": "stream",
     "text": [
      "length of images : 162\n",
      "length of mst :  162\n",
      "[7, 7, 5, 8, 6, 6, 3, 5, 7, 9, 6, 6, 5, 5, 5, 5, 7, 4, 4, 4, 1, 6, 5, 6, 7, 4, 3, 4, 5, 5, 7, 5, 5, 5, 5, 5, 6, 8, 6, 7, 8, 7, 7, 6, 7, 4, 7, 7, 8, 6, 5, 6, 3, 6, 2, 5, 5, 6, 6, 6, 8, 7, 6, 6, 6, 6, 6, 5, 6, 5, 6, 6, 5, 5, 8, 6, 2, 4, 1, 5, 7, 6, 4, 8, 2, 2, 5, 4, 7, 6, 4, 7, 6, 6, 5, 6, 5, 3, 4, 7, 5, 5, 7, 4, 6, 6, 6, 6, 5, 7, 4, 6, 7, 6, 7, 8, 6, 6, 5, 6, 6, 5, 5, 5, 5, 7, 1, 3, 5, 5, 6, 4, 6, 6, 6, 3, 5, 5, 3, 6, 3, 4, 5, 5, 6, 3, 3, 3, 5, 3, 3, 6, 4, 4, 3, 4, 4, 3, 4, 1, 3, 3]\n",
      "[(0, 6.532467532467533), (2, 4.666666666666667), (1, 2.52)]\n",
      "[(0, 0.0015183454739827113), (2, 0.0022899708727316796), (1, 0.00662408710221099)]\n",
      "[0, 2, 1]\n",
      "[0, 2, 1]\n",
      "-2.370836019515991 6.761456489562988\n"
     ]
    },
    {
     "name": "stderr",
     "output_type": "stream",
     "text": [
      "/home/rtlink/anaconda3/lib/python3.10/site-packages/sklearn/cluster/_kmeans.py:870: FutureWarning: The default value of `n_init` will change from 10 to 'auto' in 1.4. Set the value of `n_init` explicitly to suppress the warning\n",
      "  warnings.warn(\n"
     ]
    },
    {
     "name": "stdout",
     "output_type": "stream",
     "text": [
      "length of images : 62\n",
      "length of mst :  62\n",
      "[6, 6, 5, 6, 6, 6, 7, 6, 8, 0, 1, 6, 6, 6, 6, 5, 4, 0, 6, 5, 9, 6, 7, 6, 5, 3, 2, 6, 6, 6, 6, 6, 6, 5, 4, 6, 5, 5, 5, 3, 5, 6, 2, 7, 6, 4, 1, 5, 6, 5, 4, 4, 3, 0, 5, 2, 2, 5, 2, 3, 4, 5]\n",
      "[(1, 6.285714285714286), (2, 4.7), (0, 1.7142857142857142)]\n",
      "[(1, 0.0012921316920394689), (2, 0.009380534881521642), (0, 0.02837313771011014)]\n",
      "[1, 2, 0]\n",
      "[1, 2, 0]\n",
      "-2.475435256958008 6.093881130218506\n"
     ]
    },
    {
     "name": "stderr",
     "output_type": "stream",
     "text": [
      "/home/rtlink/anaconda3/lib/python3.10/site-packages/sklearn/cluster/_kmeans.py:870: FutureWarning: The default value of `n_init` will change from 10 to 'auto' in 1.4. Set the value of `n_init` explicitly to suppress the warning\n",
      "  warnings.warn(\n"
     ]
    },
    {
     "name": "stdout",
     "output_type": "stream",
     "text": [
      "length of images : 105\n",
      "length of mst :  105\n",
      "[7, 7, 7, 6, 7, 5, 4, 6, 5, 6, 6, 7, 6, 3, 4, 4, 4, 6, 6, 6, 6, 0, 6, 5, 5, 4, 5, 7, 9, 2, 4, 4, 5, 6, 3, 5, 1, 6, 2, 1, 3, 6, 5, 5, 5, 5, 5, 4, 4, 3, 4, 4, 7, 5, 4, 1, 0, 6, 4, 3, 4, 6, 4, 7, 8, 6, 5, 5, 4, 6, 3, 6, 5, 9, 5, 6, 7, 8, 5, 5, 6, 5, 3, 5, 7, 5, 8, 3, 4, 6, 4, 3, 6, 2, 5, 2, 6, 3, 3, 4, 4, 3, 2, 5, 3]\n",
      "[(0, 6.578947368421052), (2, 4.545454545454546), (1, 2.260869565217391)]\n",
      "[(0, 0.001606707799576073), (2, 0.0023657400183274414), (1, 0.005822426497597832)]\n",
      "[0, 2, 1]\n",
      "[0, 2, 1]\n",
      "-3.5957019329071045 11.925247192382812\n"
     ]
    },
    {
     "name": "stderr",
     "output_type": "stream",
     "text": [
      "/home/rtlink/anaconda3/lib/python3.10/site-packages/sklearn/cluster/_kmeans.py:870: FutureWarning: The default value of `n_init` will change from 10 to 'auto' in 1.4. Set the value of `n_init` explicitly to suppress the warning\n",
      "  warnings.warn(\n"
     ]
    },
    {
     "name": "stdout",
     "output_type": "stream",
     "text": [
      "length of images : 90\n",
      "length of mst :  90\n",
      "[8, 5, 4, 7, 7, 5, 4, 3, 2, 6, 7, 7, 8, 7, 9, 7, 3, 4, 5, 6, 7, 7, 7, 8, 7, 5, 7, 6, 5, 5, 5, 6, 3, 5, 6, 6, 8, 5, 6, 7, 5, 4, 6, 6, 3, 6, 6, 6, 6, 6, 6, 3, 4, 5, 3, 4, 5, 7, 5, 3, 3, 4, 4, 3, 3, 4, 5, 1, 5, 4, 6, 4, 3, 5, 4, 5, 1, 4, 5, 3, 3, 7, 3, 4, 3, 5, 5, 5, 5, 3]\n",
      "[(0, 6.714285714285714), (2, 4.611111111111111), (1, 2.736842105263158)]\n",
      "[(1, 0.0029027988300673875), (0, 0.002944423348227676), (2, 0.00612332275680717)]\n",
      "[0, 2, 1]\n",
      "[1, 0, 2]\n",
      "-2.7190072536468506 8.775931358337402\n"
     ]
    },
    {
     "name": "stderr",
     "output_type": "stream",
     "text": [
      "/home/rtlink/anaconda3/lib/python3.10/site-packages/sklearn/cluster/_kmeans.py:870: FutureWarning: The default value of `n_init` will change from 10 to 'auto' in 1.4. Set the value of `n_init` explicitly to suppress the warning\n",
      "  warnings.warn(\n"
     ]
    },
    {
     "name": "stdout",
     "output_type": "stream",
     "text": [
      "length of images : 92\n",
      "length of mst :  92\n",
      "[6, 5, 4, 6, 7, 5, 6, 4, 5, 5, 7, 6, 5, 7, 6, 4, 5, 0, 6, 5, 8, 3, 8, 6, 7, 3, 2, 3, 5, 2, 6, 7, 3, 1, 0, 6, 5, 7, 6, 4, 3, 4, 4, 4, 7, 4, 4, 4, 3, 3, 7, 4, 4, 6, 7, 8, 5, 7, 5, 4, 7, 5, 5, 5, 5, 3, 5, 6, 1, 4, 6, 5, 5, 8, 4, 4, 3, 4, 3, 3, 4, 1, 5, 2, 2, 4, 4, 4, 3, 1, 1, 3]\n",
      "[(1, 6.678571428571429), (0, 4.113207547169812), (2, 1.1818181818181819)]\n",
      "[(1, 0.001932562548059973), (0, 0.0026224022765616944), (2, 0.002953555920471535)]\n",
      "[1, 0, 2]\n",
      "[1, 0, 2]\n",
      "-1.4573262929916382 5.294764518737793\n"
     ]
    },
    {
     "name": "stderr",
     "output_type": "stream",
     "text": [
      "/home/rtlink/anaconda3/lib/python3.10/site-packages/sklearn/cluster/_kmeans.py:870: FutureWarning: The default value of `n_init` will change from 10 to 'auto' in 1.4. Set the value of `n_init` explicitly to suppress the warning\n",
      "  warnings.warn(\n"
     ]
    },
    {
     "name": "stdout",
     "output_type": "stream",
     "text": [
      "length of images : 94\n",
      "length of mst :  94\n",
      "[8, 8, 8, 5, 6, 7, 6, 3, 3, 4, 4, 3, 5, 2, 5, 4, 7, 5, 5, 6, 3, 6, 4, 5, 4, 6, 5, 3, 3, 5, 6, 6, 5, 5, 6, 5, 3, 6, 4, 7, 6, 5, 4, 5, 4, 5, 4, 5, 6, 4, 5, 5, 5, 3, 6, 4, 5, 5, 5, 7, 5, 8, 8, 8, 4, 5, 6, 5, 5, 4, 5, 3, 1, 5, 4, 2, 5, 2, 5, 7, 7, 3, 5, 3, 3, 3, 4, 4, 6, 1, 2, 5, 3, 1]\n",
      "[(0, 6.6923076923076925), (1, 4.659574468085107), (2, 2.5238095238095237)]\n",
      "[(0, 0.000729767693127671), (1, 0.003295321625196194), (2, 0.0038459859463246576)]\n",
      "[0, 1, 2]\n",
      "[0, 1, 2]\n",
      "-3.7445826530456543 6.33419132232666\n"
     ]
    },
    {
     "name": "stderr",
     "output_type": "stream",
     "text": [
      "/home/rtlink/anaconda3/lib/python3.10/site-packages/sklearn/cluster/_kmeans.py:870: FutureWarning: The default value of `n_init` will change from 10 to 'auto' in 1.4. Set the value of `n_init` explicitly to suppress the warning\n",
      "  warnings.warn(\n"
     ]
    },
    {
     "name": "stdout",
     "output_type": "stream",
     "text": [
      "length of images : 35\n",
      "length of mst :  35\n",
      "[6, 7, 7, 5, 6, 5, 8, 7, 6, 9, 6, 4, 5, 7, 4, 3, 7, 6, 6, 8, 4, 5, 8, 7, 7, 5, 7, 4, 3, 6, 6, 5, 5, 3, 4]\n",
      "[(0, 7.416666666666667), (1, 5.533333333333333), (2, 3.625)]\n",
      "[(0, 0.002352660930433281), (1, 0.0031667592760921243), (2, 0.008099912572885752)]\n",
      "[0, 1, 2]\n",
      "[0, 1, 2]\n",
      "-2.8774654865264893 6.447657585144043\n"
     ]
    },
    {
     "name": "stderr",
     "output_type": "stream",
     "text": [
      "/home/rtlink/anaconda3/lib/python3.10/site-packages/sklearn/cluster/_kmeans.py:870: FutureWarning: The default value of `n_init` will change from 10 to 'auto' in 1.4. Set the value of `n_init` explicitly to suppress the warning\n",
      "  warnings.warn(\n"
     ]
    },
    {
     "name": "stdout",
     "output_type": "stream",
     "text": [
      "length of images : 51\n",
      "length of mst :  51\n",
      "[6, 3, 5, 6, 5, 6, 7, 6, 1, 3, 7, 5, 4, 6, 5, 5, 9, 6, 8, 4, 4, 4, 4, 6, 6, 6, 6, 3, 5, 3, 2, 5, 7, 8, 5, 4, 4, 5, 7, 7, 5, 5, 3, 5, 5, 5, 5, 5, 4, 1, 3]\n",
      "[(1, 6.666666666666667), (0, 4.666666666666667), (2, 2.4444444444444446)]\n",
      "[(1, 0.0015544845037308366), (2, 0.012694768829995432), (0, 0.017791071731021818)]\n",
      "[1, 0, 2]\n",
      "[1, 2, 0]\n",
      "-1.6743013858795166 7.503673553466797\n"
     ]
    },
    {
     "name": "stderr",
     "output_type": "stream",
     "text": [
      "/home/rtlink/anaconda3/lib/python3.10/site-packages/sklearn/cluster/_kmeans.py:870: FutureWarning: The default value of `n_init` will change from 10 to 'auto' in 1.4. Set the value of `n_init` explicitly to suppress the warning\n",
      "  warnings.warn(\n"
     ]
    },
    {
     "name": "stdout",
     "output_type": "stream",
     "text": [
      "length of images : 35\n",
      "length of mst :  35\n",
      "[7, 7, 5, 8, 5, 8, 5, 5, 7, 4, 5, 5, 7, 5, 7, 8, 7, 5, 6, 6, 4, 7, 6, 5, 6, 5, 7, 5, 8, 6, 7, 3, 3, 3, 1]\n",
      "[(0, 7.3076923076923075), (2, 5.3125), (1, 3.0)]\n",
      "[(2, 0.0011645615533010841), (0, 0.0012280133440730303), (1, 0.03585811067729887)]\n",
      "[0, 2, 1]\n",
      "[2, 0, 1]\n",
      "-3.4843080043792725 7.275097846984863\n"
     ]
    },
    {
     "name": "stderr",
     "output_type": "stream",
     "text": [
      "/home/rtlink/anaconda3/lib/python3.10/site-packages/sklearn/cluster/_kmeans.py:870: FutureWarning: The default value of `n_init` will change from 10 to 'auto' in 1.4. Set the value of `n_init` explicitly to suppress the warning\n",
      "  warnings.warn(\n"
     ]
    },
    {
     "name": "stdout",
     "output_type": "stream",
     "text": [
      "length of images : 190\n",
      "length of mst :  190\n",
      "[6, 6, 6, 6, 4, 6, 6, 5, 5, 7, 8, 6, 2, 4, 6, 5, 4, 2, 4, 6, 6, 8, 6, 8, 8, 6, 5, 6, 6, 6, 7, 6, 6, 7, 6, 4, 5, 5, 8, 6, 6, 5, 5, 6, 7, 6, 3, 4, 6, 7, 6, 7, 6, 6, 6, 4, 8, 3, 4, 4, 4, 6, 7, 6, 6, 8, 5, 6, 8, 8, 6, 6, 7, 9, 4, 3, 3, 4, 5, 5, 7, 7, 4, 4, 5, 3, 7, 5, 6, 6, 5, 7, 3, 2, 6, 10, 6, 6, 6, 5, 5, 6, 4, 5, 8, 7, 7, 5, 6, 6, 4, 2, 4, 5, 5, 3, 5, 5, 5, 7, 5, 7, 6, 5, 7, 5, 7, 5, 8, 4, 5, 5, 7, 5, 6, 5, 5, 5, 3, 5, 5, 6, 7, 7, 5, 2, 5, 5, 6, 6, 8, 8, 6, 5, 5, 5, 4, 5, 5, 5, 7, 5, 6, 6, 4, 4, 5, 8, 7, 6, 5, 5, 5, 4, 6, 2, 4, 4, 6, 5, 5, 4, 1, 2, 1, 3, 4, 4, 3, 3]\n",
      "[(2, 7.487179487179487), (0, 5.509615384615385), (1, 3.3404255319148937)]\n",
      "[(2, 0.0005593786504268969), (0, 0.0008939599770265867), (1, 0.0036234768881345325)]\n",
      "[2, 0, 1]\n",
      "[2, 0, 1]\n",
      "-2.871307849884033 6.55259370803833\n"
     ]
    },
    {
     "name": "stderr",
     "output_type": "stream",
     "text": [
      "/home/rtlink/anaconda3/lib/python3.10/site-packages/sklearn/cluster/_kmeans.py:870: FutureWarning: The default value of `n_init` will change from 10 to 'auto' in 1.4. Set the value of `n_init` explicitly to suppress the warning\n",
      "  warnings.warn(\n"
     ]
    },
    {
     "name": "stdout",
     "output_type": "stream",
     "text": [
      "length of images : 49\n",
      "length of mst :  49\n",
      "[7, 6, 7, 5, 5, 6, 7, 6, 6, 0, 6, 5, 6, 9, 6, 4, 4, 6, 8, 5, 7, 7, 6, 8, 7, 6, 6, 4, 4, 7, 5, 4, 1, 5, 3, 7, 2, 8, 5, 3, 5, 2, 5, 3, 5, 0, 1, 1, 4]\n",
      "[(0, 6.739130434782608), (1, 4.368421052631579), (2, 1.0)]\n",
      "[(0, 0.0022383587423829643), (1, 0.010050313906226719), (2, 0.02318318061708522)]\n",
      "[0, 1, 2]\n",
      "[0, 1, 2]\n",
      "-3.046934127807617 6.658621311187744\n"
     ]
    },
    {
     "name": "stderr",
     "output_type": "stream",
     "text": [
      "/home/rtlink/anaconda3/lib/python3.10/site-packages/sklearn/cluster/_kmeans.py:870: FutureWarning: The default value of `n_init` will change from 10 to 'auto' in 1.4. Set the value of `n_init` explicitly to suppress the warning\n",
      "  warnings.warn(\n"
     ]
    },
    {
     "name": "stdout",
     "output_type": "stream",
     "text": [
      "length of images : 21\n",
      "length of mst :  21\n",
      "[5, 8, 6, 5, 5, 5, 5, 8, 8, 7, 4, 4, 3, 5, 8, 5, 4, 8, 4, 5, 6]\n",
      "[(2, 7.833333333333333), (0, 5.2), (1, 3.8)]\n",
      "[(2, 0.000544105099663707), (0, 0.0015710885260983801), (1, 0.0019033288090398801)]\n",
      "[2, 0, 1]\n",
      "[2, 0, 1]\n",
      "-2.8627872467041016 17.673654556274414\n"
     ]
    },
    {
     "name": "stderr",
     "output_type": "stream",
     "text": [
      "/home/rtlink/anaconda3/lib/python3.10/site-packages/sklearn/cluster/_kmeans.py:870: FutureWarning: The default value of `n_init` will change from 10 to 'auto' in 1.4. Set the value of `n_init` explicitly to suppress the warning\n",
      "  warnings.warn(\n"
     ]
    },
    {
     "name": "stdout",
     "output_type": "stream",
     "text": [
      "length of images : 54\n",
      "length of mst :  54\n",
      "[6, 7, 8, 5, 6, 5, 5, 5, 6, 6, 7, 7, 7, 5, 6, 5, 5, 9, 6, 7, 8, 3, 5, 5, 6, 5, 6, 7, 8, 5, 8, 6, 6, 5, 6, 2, 6, 6, 3, 4, 6, 7, 6, 3, 6, 5, 4, 4, 3, 5, 1, 4, 3, 2]\n",
      "[(0, 7.5), (1, 5.533333333333333), (2, 3.0)]\n",
      "[(0, 0.0019961353446856186), (1, 0.0034203172811556755), (2, 0.026175755266174616)]\n",
      "[0, 1, 2]\n",
      "[0, 1, 2]\n",
      "-1.506695032119751 7.389968395233154\n"
     ]
    },
    {
     "name": "stderr",
     "output_type": "stream",
     "text": [
      "/home/rtlink/anaconda3/lib/python3.10/site-packages/sklearn/cluster/_kmeans.py:870: FutureWarning: The default value of `n_init` will change from 10 to 'auto' in 1.4. Set the value of `n_init` explicitly to suppress the warning\n",
      "  warnings.warn(\n"
     ]
    },
    {
     "name": "stdout",
     "output_type": "stream",
     "text": [
      "length of images : 45\n",
      "length of mst :  45\n",
      "[7, 5, 5, 7, 2, 2, 6, 6, 6, 6, 6, 5, 7, 3, 7, 4, 3, 6, 5, 4, 8, 5, 5, 6, 8, 5, 4, 6, 5, 5, 6, 7, 6, 7, 5, 7, 7, 5, 7, 6, 0, 2, 4, 5, 5]\n",
      "[(0, 6.590909090909091), (1, 4.764705882352941), (2, 2.0)]\n",
      "[(0, 0.0010580534776581823), (1, 0.0033286526935444078), (2, 0.007850604909119626)]\n",
      "[0, 1, 2]\n",
      "[0, 1, 2]\n",
      "-1.971954107284546 6.958498477935791\n"
     ]
    },
    {
     "name": "stderr",
     "output_type": "stream",
     "text": [
      "/home/rtlink/anaconda3/lib/python3.10/site-packages/sklearn/cluster/_kmeans.py:870: FutureWarning: The default value of `n_init` will change from 10 to 'auto' in 1.4. Set the value of `n_init` explicitly to suppress the warning\n",
      "  warnings.warn(\n"
     ]
    },
    {
     "name": "stdout",
     "output_type": "stream",
     "text": [
      "length of images : 34\n",
      "length of mst :  34\n",
      "[6, 6, 2, 5, 7, 6, 6, 5, 5, 3, 3, 6, 4, 5, 6, 8, 7, 7, 6, 8, 5, 5, 6, 5, 6, 5, 7, 6, 10, 6, 5, 5, 2, 5]\n",
      "[(1, 7.714285714285714), (0, 5.434782608695652), (2, 2.5)]\n",
      "[(1, 0.0008328213093526288), (2, 0.0020849872450095382), (0, 0.005118430517225548)]\n",
      "[1, 0, 2]\n",
      "[1, 2, 0]\n",
      "-3.8887600898742676 5.087069988250732\n"
     ]
    },
    {
     "name": "stderr",
     "output_type": "stream",
     "text": [
      "/home/rtlink/anaconda3/lib/python3.10/site-packages/sklearn/cluster/_kmeans.py:870: FutureWarning: The default value of `n_init` will change from 10 to 'auto' in 1.4. Set the value of `n_init` explicitly to suppress the warning\n",
      "  warnings.warn(\n"
     ]
    },
    {
     "name": "stdout",
     "output_type": "stream",
     "text": [
      "length of images : 89\n",
      "length of mst :  89\n",
      "[6, 3, 5, 6, 8, 5, 6, 6, 5, 6, 4, 5, 6, 3, 8, 7, 7, 6, 5, 5, 2, 5, 7, 6, 6, 4, 7, 5, 6, 5, 6, 7, 5, 3, 6, 5, 5, 6, 2, 6, 4, 4, 7, 4, 5, 8, 6, 5, 3, 3, 5, 5, 6, 6, 4, 5, 3, 6, 5, 6, 5, 5, 3, 3, 3, 5, 5, 7, 4, 5, 4, 4, 6, 3, 2, 4, 4, 1, 3, 2, 5, 5, 5, 4, 8, 3, 1, 6, 3]\n",
      "[(1, 6.46875), (0, 4.684210526315789), (2, 2.5789473684210527)]\n",
      "[(1, 0.0020281014735053565), (0, 0.0023861436131981805), (2, 0.004712315425634939)]\n",
      "[1, 0, 2]\n",
      "[1, 0, 2]\n",
      "-3.890005111694336 6.237587928771973\n"
     ]
    },
    {
     "name": "stderr",
     "output_type": "stream",
     "text": [
      "/home/rtlink/anaconda3/lib/python3.10/site-packages/sklearn/cluster/_kmeans.py:870: FutureWarning: The default value of `n_init` will change from 10 to 'auto' in 1.4. Set the value of `n_init` explicitly to suppress the warning\n",
      "  warnings.warn(\n"
     ]
    },
    {
     "name": "stdout",
     "output_type": "stream",
     "text": [
      "length of images : 218\n",
      "length of mst :  218\n",
      "[6, 7, 3, 5, 5, 3, 3, 4, 4, 3, 5, 6, 7, 6, 5, 9, 3, 3, 8, 5, 6, 5, 4, 5, 5, 4, 4, 6, 7, 7, 6, 6, 6, 6, 6, 7, 4, 5, 5, 4, 4, 7, 4, 3, 4, 6, 5, 4, 5, 5, 3, 5, 3, 1, 2, 5, 4, 5, 3, 4, 5, 5, 4, 7, 4, 5, 9, 6, 7, 8, 6, 5, 6, 4, 6, 6, 6, 6, 6, 7, 4, 7, 6, 7, 8, 4, 6, 4, 7, 6, 8, 6, 6, 5, 7, 7, 4, 4, 3, 2, 4, 2, 2, 5, 7, 7, 5, 4, 6, 6, 5, 4, 6, 6, 3, 5, 5, 4, 5, 9, 9, 7, 6, 8, 6, 4, 2, 5, 5, 7, 6, 6, 8, 4, 5, 6, 2, 5, 7, 5, 5, 7, 5, 7, 6, 5, 6, 2, 5, 8, 6, 5, 7, 8, 7, 6, 6, 6, 5, 5, 5, 1, 8, 4, 6, 5, 7, 6, 6, 9, 6, 5, 4, 3, 7, 5, 5, 4, 3, 5, 5, 5, 7, 4, 5, 4, 5, 5, 3, 3, 3, 5, 5, 1, 4, 4, 4, 5, 9, 6, 3, 4, 6, 6, 5, 5, 3, 4, 5, 3, 3, 7, 4, 3, 1, 1, 3, 3]\n",
      "[(1, 7.5), (0, 5.057142857142857), (2, 2.5277777777777777)]\n",
      "[(1, 0.0036059290469158956), (0, 0.004431451758022982), (2, 0.007097406841972329)]\n",
      "[1, 0, 2]\n",
      "[1, 0, 2]\n",
      "-1.70032799243927 7.406977653503418\n"
     ]
    },
    {
     "name": "stderr",
     "output_type": "stream",
     "text": [
      "/home/rtlink/anaconda3/lib/python3.10/site-packages/sklearn/cluster/_kmeans.py:870: FutureWarning: The default value of `n_init` will change from 10 to 'auto' in 1.4. Set the value of `n_init` explicitly to suppress the warning\n",
      "  warnings.warn(\n"
     ]
    },
    {
     "name": "stdout",
     "output_type": "stream",
     "text": [
      "length of images : 48\n",
      "length of mst :  48\n",
      "[8, 8, 5, 5, 0, 7, 6, 6, 6, 7, 5, 4, 3, 5, 4, 4, 4, 3, 4, 3, 6, 5, 5, 6, 8, 5, 6, 5, 3, 2, 5, 6, 6, 4, 5, 6, 8, 7, 1, 3, 5, 6, 5, 5, 3, 4, 6, 5]\n",
      "[(0, 6.611111111111111), (2, 4.666666666666667), (1, 2.3333333333333335)]\n",
      "[(0, 0.0017098966854198717), (2, 0.0064854506612674456), (1, 0.01072242320180057)]\n",
      "[0, 2, 1]\n",
      "[0, 2, 1]\n",
      "-2.4572863578796387 6.875140190124512\n"
     ]
    },
    {
     "name": "stderr",
     "output_type": "stream",
     "text": [
      "/home/rtlink/anaconda3/lib/python3.10/site-packages/sklearn/cluster/_kmeans.py:870: FutureWarning: The default value of `n_init` will change from 10 to 'auto' in 1.4. Set the value of `n_init` explicitly to suppress the warning\n",
      "  warnings.warn(\n"
     ]
    },
    {
     "name": "stdout",
     "output_type": "stream",
     "text": [
      "length of images : 26\n",
      "length of mst :  26\n",
      "[7, 4, 7, 7, 6, 6, 6, 4, 5, 6, 6, 5, 6, 6, 5, 7, 4, 5, 5, 6, 5, 6, 5, 4, 6, 1]\n",
      "[(0, 6.285714285714286), (2, 4.636363636363637), (1, 1.0)]\n",
      "[(0, 0.0013333360900993616), (2, 0.005588189018925435), (1, 0.04860739517886143)]\n",
      "[0, 2, 1]\n",
      "[0, 2, 1]\n",
      "-2.715479850769043 6.722048282623291\n"
     ]
    },
    {
     "name": "stderr",
     "output_type": "stream",
     "text": [
      "/home/rtlink/anaconda3/lib/python3.10/site-packages/sklearn/cluster/_kmeans.py:870: FutureWarning: The default value of `n_init` will change from 10 to 'auto' in 1.4. Set the value of `n_init` explicitly to suppress the warning\n",
      "  warnings.warn(\n"
     ]
    },
    {
     "name": "stdout",
     "output_type": "stream",
     "text": [
      "length of images : 19\n",
      "length of mst :  19\n",
      "[3, 6, 7, 6, 5, 4, 6, 7, 5, 8, 7, 6, 7, 6, 5, 6, 7, 7, 7]\n",
      "[(2, 7.125), (1, 5.666666666666667), (0, 3.5)]\n",
      "[(2, 0.001234458349992151), (1, 0.0017799847524184815), (0, 0.0024211739671338977)]\n",
      "[2, 1, 0]\n",
      "[2, 1, 0]\n",
      "-1.5001020431518555 7.643946170806885\n"
     ]
    },
    {
     "name": "stderr",
     "output_type": "stream",
     "text": [
      "/home/rtlink/anaconda3/lib/python3.10/site-packages/sklearn/cluster/_kmeans.py:870: FutureWarning: The default value of `n_init` will change from 10 to 'auto' in 1.4. Set the value of `n_init` explicitly to suppress the warning\n",
      "  warnings.warn(\n"
     ]
    },
    {
     "name": "stdout",
     "output_type": "stream",
     "text": [
      "length of images : 42\n",
      "length of mst :  42\n",
      "[7, 4, 6, 5, 7, 7, 7, 6, 6, 6, 4, 6, 5, 3, 5, 5, 5, 9, 7, 5, 5, 7, 5, 5, 3, 3, 5, 7, 6, 7, 6, 4, 4, 3, 6, 5, 7, 4, 4, 5, 4, 4]\n",
      "[(2, 7.2), (1, 5.4), (0, 3.6666666666666665)]\n",
      "[(2, 0.0007247103589822121), (1, 0.00146075513050161), (0, 0.009506248593694804)]\n",
      "[2, 1, 0]\n",
      "[2, 1, 0]\n",
      "-1.7611868381500244 7.627720355987549\n"
     ]
    },
    {
     "name": "stderr",
     "output_type": "stream",
     "text": [
      "/home/rtlink/anaconda3/lib/python3.10/site-packages/sklearn/cluster/_kmeans.py:870: FutureWarning: The default value of `n_init` will change from 10 to 'auto' in 1.4. Set the value of `n_init` explicitly to suppress the warning\n",
      "  warnings.warn(\n"
     ]
    },
    {
     "name": "stdout",
     "output_type": "stream",
     "text": [
      "length of images : 35\n",
      "length of mst :  35\n",
      "[6, 6, 6, 6, 5, 7, 6, 6, 7, 6, 6, 2, 4, 4, 6, 3, 7, 3, 4, 6, 8, 5, 4, 7, 6, 5, 6, 5, 6, 6, 3, 5, 8, 3, 3]\n",
      "[(0, 7.333333333333333), (1, 5.7368421052631575), (2, 3.3)]\n",
      "[(0, 0.00134095607203335), (1, 0.0014395057279413066), (2, 0.00610984337926212)]\n",
      "[0, 1, 2]\n",
      "[0, 1, 2]\n",
      "-1.408699870109558 7.19118070602417\n"
     ]
    },
    {
     "name": "stderr",
     "output_type": "stream",
     "text": [
      "/home/rtlink/anaconda3/lib/python3.10/site-packages/sklearn/cluster/_kmeans.py:870: FutureWarning: The default value of `n_init` will change from 10 to 'auto' in 1.4. Set the value of `n_init` explicitly to suppress the warning\n",
      "  warnings.warn(\n"
     ]
    },
    {
     "name": "stdout",
     "output_type": "stream",
     "text": [
      "length of images : 162\n",
      "length of mst :  162\n",
      "[6, 6, 5, 6, 8, 8, 6, 8, 6, 3, 3, 2, 4, 0, 7, 4, 5, 1, 3, 6, 6, 4, 6, 6, 7, 6, 3, 6, 6, 5, 7, 3, 5, 4, 7, 7, 7, 8, 6, 8, 7, 10, 5, 3, 2, 3, 3, 5, 5, 5, 4, 4, 5, 5, 2, 4, 6, 4, 4, 5, 6, 5, 5, 6, 5, 5, 5, 5, 7, 7, 7, 1, 3, 3, 5, 5, 6, 4, 7, 7, 4, 5, 5, 6, 9, 5, 5, 2, 4, 7, 5, 6, 7, 8, 5, 6, 4, 3, 3, 5, 6, 5, 7, 9, 6, 5, 7, 6, 4, 4, 4, 5, 5, 6, 6, 3, 4, 5, 6, 6, 5, 4, 5, 6, 5, 7, 10, 6, 4, 4, 5, 4, 8, 5, 5, 5, 5, 5, 3, 3, 1, 3, 5, 5, 6, 6, 3, 4, 4, 1, 4, 4, 4, 5, 3, 4, 1, 6, 1, 1, 0, 3]\n",
      "[(0, 7.607142857142857), (1, 5.049019607843137), (2, 2.25)]\n",
      "[(0, 0.0007506403123998094), (1, 0.002979049993325276), (2, 0.0058400263736609285)]\n",
      "[0, 1, 2]\n",
      "[0, 1, 2]\n",
      "-3.205545425415039 15.223161697387695\n"
     ]
    },
    {
     "name": "stderr",
     "output_type": "stream",
     "text": [
      "/home/rtlink/anaconda3/lib/python3.10/site-packages/sklearn/cluster/_kmeans.py:870: FutureWarning: The default value of `n_init` will change from 10 to 'auto' in 1.4. Set the value of `n_init` explicitly to suppress the warning\n",
      "  warnings.warn(\n"
     ]
    },
    {
     "name": "stdout",
     "output_type": "stream",
     "text": [
      "length of images : 88\n",
      "length of mst :  88\n",
      "[6, 8, 6, 6, 6, 5, 7, 7, 5, 6, 5, 5, 3, 7, 6, 6, 5, 4, 6, 9, 5, 6, 5, 4, 4, 6, 6, 5, 7, 9, 4, 4, 4, 2, 4, 7, 6, 6, 8, 4, 6, 8, 5, 4, 5, 1, 4, 6, 4, 7, 1, 3, 5, 6, 5, 5, 5, 5, 9, 4, 5, 7, 7, 5, 6, 5, 5, 6, 6, 5, 7, 6, 4, 2, 3, 4, 5, 7, 7, 5, 7, 3, 3, 4, 3, 1, 3, 3]\n",
      "[(1, 6.7105263157894735), (0, 4.594594594594595), (2, 2.3846153846153846)]\n",
      "[(1, 0.0013091774303990312), (2, 0.0035125159926886374), (0, 0.0073404939847926875)]\n",
      "[1, 0, 2]\n",
      "[1, 2, 0]\n",
      "-1.8808534145355225 7.040905475616455\n"
     ]
    },
    {
     "name": "stderr",
     "output_type": "stream",
     "text": [
      "/home/rtlink/anaconda3/lib/python3.10/site-packages/sklearn/cluster/_kmeans.py:870: FutureWarning: The default value of `n_init` will change from 10 to 'auto' in 1.4. Set the value of `n_init` explicitly to suppress the warning\n",
      "  warnings.warn(\n"
     ]
    },
    {
     "name": "stdout",
     "output_type": "stream",
     "text": [
      "length of images : 128\n",
      "length of mst :  128\n",
      "[7, 6, 6, 7, 6, 6, 7, 6, 5, 8, 3, 3, 4, 4, 2, 4, 5, 5, 7, 9, 6, 7, 4, 3, 3, 3, 7, 4, 3, 1, 1, 2, 0, 7, 2, 7, 6, 4, 5, 4, 7, 5, 3, 5, 5, 5, 4, 8, 5, 7, 4, 4, 5, 2, 1, 5, 6, 3, 2, 9, 7, 4, 5, 5, 2, 7, 4, 3, 7, 3, 5, 5, 9, 2, 4, 3, 5, 7, 4, 0, 4, 5, 6, 7, 5, 7, 3, 4, 5, 4, 4, 4, 4, 7, 7, 7, 5, 3, 6, 5, 6, 3, 5, 3, 7, 3, 4, 6, 3, 5, 9, 7, 6, 4, 1, 4, 4, 4, 3, 3, 3, 5, 2, 3, 3, 3, 3, 3]\n",
      "[(0, 6.925), (2, 4.489795918367347), (1, 2.4358974358974357)]\n",
      "[(0, 0.0013461797759873645), (2, 0.004233234869514391), (1, 0.00488487846816999)]\n",
      "[0, 2, 1]\n",
      "[0, 2, 1]\n",
      "-3.1864662170410156 9.49925422668457\n"
     ]
    },
    {
     "name": "stderr",
     "output_type": "stream",
     "text": [
      "/home/rtlink/anaconda3/lib/python3.10/site-packages/sklearn/cluster/_kmeans.py:870: FutureWarning: The default value of `n_init` will change from 10 to 'auto' in 1.4. Set the value of `n_init` explicitly to suppress the warning\n",
      "  warnings.warn(\n"
     ]
    },
    {
     "name": "stdout",
     "output_type": "stream",
     "text": [
      "length of images : 86\n",
      "length of mst :  86\n",
      "[6, 7, 8, 6, 8, 5, 3, 3, 3, 8, 6, 7, 7, 7, 6, 7, 6, 5, 7, 6, 6, 10, 6, 6, 4, 5, 5, 7, 5, 1, 4, 5, 5, 5, 6, 7, 5, 5, 2, 5, 5, 4, 4, 3, 6, 6, 7, 8, 5, 6, 7, 6, 4, 5, 3, 4, 5, 2, 5, 6, 4, 3, 5, 2, 3, 5, 4, 4, 4, 6, 4, 3, 4, 3, 4, 5, 4, 2, 5, 1, 5, 5, 3, 4, 1, 2]\n",
      "[(0, 6.709677419354839), (2, 4.594594594594595), (1, 2.388888888888889)]\n",
      "[(0, 0.0026622282411421327), (2, 0.0040738000445074765), (1, 0.006790791837697354)]\n",
      "[0, 2, 1]\n",
      "[0, 2, 1]\n",
      "-1.8315256834030151 6.964365482330322\n"
     ]
    },
    {
     "name": "stderr",
     "output_type": "stream",
     "text": [
      "/home/rtlink/anaconda3/lib/python3.10/site-packages/sklearn/cluster/_kmeans.py:870: FutureWarning: The default value of `n_init` will change from 10 to 'auto' in 1.4. Set the value of `n_init` explicitly to suppress the warning\n",
      "  warnings.warn(\n"
     ]
    },
    {
     "name": "stdout",
     "output_type": "stream",
     "text": [
      "length of images : 44\n",
      "length of mst :  44\n",
      "[7, 5, 4, 0, 3, 6, 6, 6, 8, 8, 6, 5, 6, 4, 2, 3, 4, 4, 8, 7, 5, 5, 6, 6, 6, 5, 6, 6, 10, 4, 4, 5, 6, 7, 5, 7, 7, 6, 5, 6, 6, 5, 5, 4]\n",
      "[(2, 8.5), (0, 5.827586206896552), (1, 3.272727272727273)]\n",
      "[(2, 0.0009023410630927733), (0, 0.0011245097355531163), (1, 0.006313242579532224)]\n",
      "[2, 0, 1]\n",
      "[2, 0, 1]\n",
      "-2.4655938148498535 7.034761905670166\n"
     ]
    },
    {
     "name": "stderr",
     "output_type": "stream",
     "text": [
      "/home/rtlink/anaconda3/lib/python3.10/site-packages/sklearn/cluster/_kmeans.py:870: FutureWarning: The default value of `n_init` will change from 10 to 'auto' in 1.4. Set the value of `n_init` explicitly to suppress the warning\n",
      "  warnings.warn(\n"
     ]
    },
    {
     "name": "stdout",
     "output_type": "stream",
     "text": [
      "length of images : 46\n",
      "length of mst :  46\n",
      "[6, 7, 7, 4, 7, 5, 8, 7, 6, 4, 5, 4, 8, 3, 6, 3, 8, 6, 6, 6, 6, 9, 5, 7, 6, 5, 4, 6, 6, 7, 8, 6, 5, 6, 4, 5, 7, 7, 5, 6, 6, 5, 2, 4, 7, 6]\n",
      "[(2, 7.428571428571429), (0, 5.6521739130434785), (1, 3.5555555555555554)]\n",
      "[(2, 0.0015062886682669432), (0, 0.006689053518099757), (1, 0.00993308681926058)]\n",
      "[2, 0, 1]\n",
      "[2, 0, 1]\n",
      "-3.8794736862182617 5.655928134918213\n"
     ]
    },
    {
     "name": "stderr",
     "output_type": "stream",
     "text": [
      "/home/rtlink/anaconda3/lib/python3.10/site-packages/sklearn/cluster/_kmeans.py:870: FutureWarning: The default value of `n_init` will change from 10 to 'auto' in 1.4. Set the value of `n_init` explicitly to suppress the warning\n",
      "  warnings.warn(\n"
     ]
    },
    {
     "name": "stdout",
     "output_type": "stream",
     "text": [
      "length of images : 120\n",
      "length of mst :  120\n",
      "[7, 6, 8, 4, 7, 4, 6, 7, 7, 6, 6, 6, 5, 4, 5, 7, 4, 3, 5, 4, 6, 9, 5, 7, 6, 6, 4, 7, 7, 6, 5, 4, 4, 3, 6, 2, 6, 4, 5, 4, 4, 4, 5, 3, 2, 4, 3, 1, 3, 1, 3, 5, 3, 6, 4, 5, 2, 3, 6, 6, 4, 2, 6, 6, 4, 5, 6, 6, 6, 6, 6, 5, 6, 3, 4, 6, 6, 8, 3, 5, 4, 6, 6, 8, 5, 3, 5, 4, 7, 3, 4, 4, 6, 10, 5, 6, 4, 7, 5, 5, 4, 4, 4, 5, 5, 6, 3, 2, 7, 5, 6, 4, 2, 5, 3, 2, 3, 5, 3, 1]\n",
      "[(2, 6.521739130434782), (0, 4.458333333333333), (1, 2.5)]\n",
      "[(2, 0.0010834395853722588), (0, 0.0034381074487390044), (1, 0.006300711496694973)]\n",
      "[2, 0, 1]\n",
      "[2, 0, 1]\n",
      "-3.5305142402648926 6.592084884643555\n"
     ]
    },
    {
     "name": "stderr",
     "output_type": "stream",
     "text": [
      "/home/rtlink/anaconda3/lib/python3.10/site-packages/sklearn/cluster/_kmeans.py:870: FutureWarning: The default value of `n_init` will change from 10 to 'auto' in 1.4. Set the value of `n_init` explicitly to suppress the warning\n",
      "  warnings.warn(\n"
     ]
    },
    {
     "name": "stdout",
     "output_type": "stream",
     "text": [
      "length of images : 119\n",
      "length of mst :  119\n",
      "[6, 6, 3, 5, 7, 8, 4, 7, 5, 5, 7, 6, 6, 6, 3, 5, 5, 5, 5, 5, 7, 5, 4, 6, 3, 3, 4, 4, 8, 8, 5, 6, 9, 6, 3, 7, 4, 4, 3, 9, 6, 1, 4, 4, 6, 4, 3, 5, 3, 3, 3, 2, 1, 2, 4, 6, 5, 7, 5, 4, 7, 8, 4, 5, 4, 5, 5, 5, 6, 5, 6, 7, 7, 5, 6, 4, 6, 6, 6, 6, 5, 6, 4, 6, 5, 5, 6, 5, 2, 5, 2, 4, 6, 5, 6, 6, 6, 5, 3, 5, 5, 8, 4, 2, 4, 6, 4, 5, 2, 4, 3, 3, 3, 5, 3, 5, 2, 3, 3]\n",
      "[(1, 6.595238095238095), (2, 4.607843137254902), (0, 2.576923076923077)]\n",
      "[(1, 0.001519991939651167), (0, 0.0021333130338431674), (2, 0.002753433852867436)]\n",
      "[1, 2, 0]\n",
      "[1, 0, 2]\n",
      "-1.8064788579940796 5.229654788970947\n"
     ]
    },
    {
     "name": "stderr",
     "output_type": "stream",
     "text": [
      "/home/rtlink/anaconda3/lib/python3.10/site-packages/sklearn/cluster/_kmeans.py:870: FutureWarning: The default value of `n_init` will change from 10 to 'auto' in 1.4. Set the value of `n_init` explicitly to suppress the warning\n",
      "  warnings.warn(\n"
     ]
    },
    {
     "name": "stdout",
     "output_type": "stream",
     "text": [
      "length of images : 66\n",
      "length of mst :  66\n",
      "[4, 5, 5, 8, 5, 7, 4, 2, 6, 7, 7, 6, 7, 6, 5, 7, 4, 5, 8, 5, 3, 3, 6, 5, 4, 8, 7, 5, 7, 5, 4, 4, 7, 6, 6, 6, 4, 5, 6, 4, 5, 4, 7, 6, 5, 3, 2, 0, 3, 3, 4, 5, 5, 2, 2, 4, 4, 4, 6, 5, 1, 7, 2, 1, 4, 6]\n",
      "[(1, 6.666666666666667), (2, 4.517241379310345), (0, 2.076923076923077)]\n",
      "[(1, 0.0007003316108526099), (2, 0.0076954623745646095), (0, 0.020288816196221353)]\n",
      "[1, 2, 0]\n",
      "[1, 2, 0]\n",
      "-2.7362327575683594 7.011721611022949\n"
     ]
    },
    {
     "name": "stderr",
     "output_type": "stream",
     "text": [
      "/home/rtlink/anaconda3/lib/python3.10/site-packages/sklearn/cluster/_kmeans.py:870: FutureWarning: The default value of `n_init` will change from 10 to 'auto' in 1.4. Set the value of `n_init` explicitly to suppress the warning\n",
      "  warnings.warn(\n"
     ]
    },
    {
     "name": "stdout",
     "output_type": "stream",
     "text": [
      "length of images : 50\n",
      "length of mst :  50\n",
      "[5, 7, 6, 3, 6, 6, 6, 5, 7, 6, 6, 2, 3, 7, 4, 7, 8, 7, 5, 4, 5, 5, 6, 8, 5, 6, 6, 9, 7, 4, 8, 4, 5, 5, 4, 4, 4, 6, 6, 4, 5, 3, 6, 4, 1, 1, 6, 4, 7, 4]\n",
      "[(0, 6.666666666666667), (2, 4.45), (1, 2.1666666666666665)]\n",
      "[(0, 0.0017482667531670028), (2, 0.01318722000245448), (1, 0.018880878151964913)]\n",
      "[0, 2, 1]\n",
      "[0, 2, 1]\n",
      "-3.0287911891937256 7.030529022216797\n"
     ]
    },
    {
     "name": "stderr",
     "output_type": "stream",
     "text": [
      "/home/rtlink/anaconda3/lib/python3.10/site-packages/sklearn/cluster/_kmeans.py:870: FutureWarning: The default value of `n_init` will change from 10 to 'auto' in 1.4. Set the value of `n_init` explicitly to suppress the warning\n",
      "  warnings.warn(\n"
     ]
    },
    {
     "name": "stdout",
     "output_type": "stream",
     "text": [
      "length of images : 35\n",
      "length of mst :  35\n",
      "[7, 7, 5, 5, 8, 8, 6, 6, 6, 5, 7, 5, 7, 6, 7, 6, 3, 6, 7, 8, 5, 6, 3, 6, 7, 1, 8, 7, 4, 7, 4, 5, 1, 6, 3]\n",
      "[(1, 7.3076923076923075), (0, 5.411764705882353), (2, 2.2)]\n",
      "[(1, 0.001788089079003042), (0, 0.0020684214134480765), (2, 0.011928665814896822)]\n",
      "[1, 0, 2]\n",
      "[1, 0, 2]\n",
      "-3.7565698623657227 5.655481815338135\n"
     ]
    },
    {
     "name": "stderr",
     "output_type": "stream",
     "text": [
      "/home/rtlink/anaconda3/lib/python3.10/site-packages/sklearn/cluster/_kmeans.py:870: FutureWarning: The default value of `n_init` will change from 10 to 'auto' in 1.4. Set the value of `n_init` explicitly to suppress the warning\n",
      "  warnings.warn(\n"
     ]
    },
    {
     "name": "stdout",
     "output_type": "stream",
     "text": [
      "length of images : 196\n",
      "length of mst :  196\n",
      "[7, 7, 7, 7, 6, 8, 3, 6, 5, 3, 3, 7, 7, 6, 4, 6, 6, 7, 6, 6, 6, 7, 5, 6, 6, 7, 9, 6, 6, 8, 7, 6, 5, 7, 6, 2, 7, 8, 5, 6, 6, 6, 3, 2, 4, 6, 6, 6, 3, 6, 5, 3, 3, 6, 6, 7, 6, 5, 5, 5, 4, 4, 6, 5, 4, 5, 3, 5, 5, 5, 5, 5, 6, 4, 4, 6, 5, 7, 3, 0, 1, 4, 6, 6, 7, 7, 5, 8, 8, 9, 5, 7, 5, 6, 4, 4, 5, 3, 4, 6, 5, 4, 4, 7, 5, 7, 5, 8, 6, 6, 5, 8, 4, 5, 5, 7, 7, 4, 5, 6, 4, 5, 3, 8, 4, 3, 5, 6, 5, 5, 6, 6, 4, 6, 5, 6, 5, 7, 8, 5, 5, 6, 7, 4, 6, 5, 5, 3, 5, 6, 6, 8, 8, 5, 7, 5, 6, 7, 7, 4, 3, 3, 4, 5, 4, 4, 5, 7, 3, 4, 3, 5, 1, 1, 5, 4, 6, 5, 5, 3, 5, 6, 4, 6, 6, 3, 8, 5, 6, 1, 3, 4, 3, 3, 3, 5]\n",
      "[(2, 7.390243902439025), (0, 5.5), (1, 3.245614035087719)]\n",
      "[(2, 0.002616011382808574), (1, 0.0037391961011103113), (0, 0.004300139730466515)]\n",
      "[2, 0, 1]\n",
      "[2, 1, 0]\n",
      "-2.3444039821624756 6.277177810668945\n"
     ]
    },
    {
     "name": "stderr",
     "output_type": "stream",
     "text": [
      "/home/rtlink/anaconda3/lib/python3.10/site-packages/sklearn/cluster/_kmeans.py:870: FutureWarning: The default value of `n_init` will change from 10 to 'auto' in 1.4. Set the value of `n_init` explicitly to suppress the warning\n",
      "  warnings.warn(\n"
     ]
    },
    {
     "name": "stdout",
     "output_type": "stream",
     "text": [
      "length of images : 55\n",
      "length of mst :  55\n",
      "[5, 6, 6, 4, 6, 6, 5, 5, 5, 5, 4, 4, 4, 5, 5, 7, 7, 8, 9, 6, 6, 6, 4, 3, 3, 6, 6, 5, 6, 4, 6, 2, 2, 2, 4, 7, 5, 7, 6, 3, 4, 4, 3, 5, 5, 1, 1, 4, 4, 3, 4, 1, 1, 2, 2]\n",
      "[(1, 6.5), (0, 4.214285714285714), (2, 1.5555555555555556)]\n",
      "[(1, 0.0011941824678908257), (0, 0.006627905327143575), (2, 0.011013024567516108)]\n",
      "[1, 0, 2]\n",
      "[1, 0, 2]\n",
      "-2.1554622650146484 8.7354154586792\n"
     ]
    },
    {
     "name": "stderr",
     "output_type": "stream",
     "text": [
      "/home/rtlink/anaconda3/lib/python3.10/site-packages/sklearn/cluster/_kmeans.py:870: FutureWarning: The default value of `n_init` will change from 10 to 'auto' in 1.4. Set the value of `n_init` explicitly to suppress the warning\n",
      "  warnings.warn(\n"
     ]
    },
    {
     "name": "stdout",
     "output_type": "stream",
     "text": [
      "length of images : 116\n",
      "length of mst :  116\n",
      "[7, 9, 5, 6, 5, 4, 5, 9, 7, 4, 1, 5, 4, 3, 5, 5, 6, 6, 3, 6, 8, 7, 6, 6, 8, 5, 5, 4, 6, 6, 5, 5, 5, 5, 6, 5, 6, 7, 6, 6, 5, 6, 4, 2, 5, 8, 4, 3, 5, 2, 3, 6, 6, 6, 8, 5, 7, 5, 8, 6, 7, 6, 6, 7, 6, 4, 6, 6, 6, 6, 5, 3, 3, 5, 7, 5, 7, 5, 8, 4, 7, 4, 5, 4, 6, 5, 6, 7, 4, 6, 6, 7, 5, 1, 4, 3, 5, 4, 7, 5, 7, 7, 4, 5, 4, 5, 1, 4, 6, 4, 3, 1, 4, 3, 3, 3]\n",
      "[(1, 6.634615384615385), (0, 4.617021276595745), (2, 2.411764705882353)]\n",
      "[(1, 0.0014689100816838469), (0, 0.0018822680202929829), (2, 0.005941590826328218)]\n",
      "[1, 0, 2]\n",
      "[1, 0, 2]\n",
      "-2.5306975841522217 6.441867828369141\n"
     ]
    },
    {
     "name": "stderr",
     "output_type": "stream",
     "text": [
      "/home/rtlink/anaconda3/lib/python3.10/site-packages/sklearn/cluster/_kmeans.py:870: FutureWarning: The default value of `n_init` will change from 10 to 'auto' in 1.4. Set the value of `n_init` explicitly to suppress the warning\n",
      "  warnings.warn(\n"
     ]
    },
    {
     "name": "stdout",
     "output_type": "stream",
     "text": [
      "length of images : 107\n",
      "length of mst :  107\n",
      "[6, 5, 6, 6, 5, 6, 6, 7, 8, 6, 6, 5, 4, 6, 5, 1, 5, 7, 6, 5, 5, 6, 6, 5, 5, 5, 3, 6, 7, 8, 2, 6, 3, 4, 5, 5, 1, 4, 5, 5, 5, 7, 6, 4, 1, 7, 5, 5, 5, 3, 6, 4, 5, 3, 4, 5, 4, 5, 5, 5, 7, 6, 8, 5, 6, 6, 3, 5, 6, 4, 6, 7, 5, 7, 8, 6, 6, 3, 5, 5, 4, 4, 7, 4, 3, 5, 5, 8, 5, 5, 5, 4, 3, 5, 6, 6, 4, 3, 3, 5, 3, 2, 4, 6, 1, 1, 3]\n",
      "[(0, 6.487179487179487), (2, 4.714285714285714), (1, 2.3684210526315788)]\n",
      "[(0, 0.0019946070714084245), (2, 0.005096964191961605), (1, 0.0063182113767298025)]\n",
      "[0, 2, 1]\n",
      "[0, 2, 1]\n",
      "-3.0028064250946045 6.315598011016846\n"
     ]
    },
    {
     "name": "stderr",
     "output_type": "stream",
     "text": [
      "/home/rtlink/anaconda3/lib/python3.10/site-packages/sklearn/cluster/_kmeans.py:870: FutureWarning: The default value of `n_init` will change from 10 to 'auto' in 1.4. Set the value of `n_init` explicitly to suppress the warning\n",
      "  warnings.warn(\n"
     ]
    },
    {
     "name": "stdout",
     "output_type": "stream",
     "text": [
      "length of images : 51\n",
      "length of mst :  51\n",
      "[6, 5, 8, 7, 3, 6, 6, 7, 5, 8, 6, 0, 5, 5, 2, 6, 6, 6, 7, 6, 5, 4, 8, 7, 6, 5, 6, 6, 5, 3, 6, 8, 6, 4, 7, 6, 7, 4, 4, 3, 3, 6, 3, 4, 6, 4, 6, 3, 3, 6, 4]\n",
      "[(2, 7.4), (0, 5.72), (1, 3.1875)]\n",
      "[(2, 0.000902902957383721), (0, 0.0031598780815503876), (1, 0.009491752294952274)]\n",
      "[2, 0, 1]\n",
      "[2, 0, 1]\n",
      "-2.720845937728882 7.150225639343262\n"
     ]
    },
    {
     "name": "stderr",
     "output_type": "stream",
     "text": [
      "/home/rtlink/anaconda3/lib/python3.10/site-packages/sklearn/cluster/_kmeans.py:870: FutureWarning: The default value of `n_init` will change from 10 to 'auto' in 1.4. Set the value of `n_init` explicitly to suppress the warning\n",
      "  warnings.warn(\n"
     ]
    },
    {
     "name": "stdout",
     "output_type": "stream",
     "text": [
      "length of images : 159\n",
      "length of mst :  159\n",
      "[6, 6, 4, 7, 5, 3, 5, 1, 4, 5, 5, 6, 6, 7, 7, 7, 5, 4, 7, 5, 5, 6, 4, 3, 7, 6, 8, 8, 6, 7, 5, 2, 7, 7, 4, 4, 6, 7, 8, 7, 5, 5, 5, 4, 4, 5, 6, 6, 6, 6, 2, 5, 3, 5, 4, 5, 6, 7, 7, 6, 7, 5, 7, 5, 1, 5, 4, 3, 5, 5, 5, 6, 8, 5, 5, 6, 4, 3, 4, 3, 8, 7, 3, 5, 4, 2, 3, 6, 5, 5, 7, 5, 5, 8, 5, 5, 5, 4, 3, 6, 3, 3, 4, 5, 5, 6, 4, 5, 6, 2, 0, 5, 5, 7, 6, 7, 3, 4, 4, 7, 8, 5, 5, 5, 4, 3, 3, 3, 4, 6, 7, 4, 6, 3, 5, 3, 6, 7, 8, 6, 5, 7, 7, 5, 6, 4, 5, 5, 4, 6, 5, 3, 4, 3, 3, 5, 1, 3, 4]\n",
      "[(0, 6.677966101694915), (1, 4.647887323943662), (2, 2.5517241379310347)]\n",
      "[(0, 0.0008005003926483153), (1, 0.002829769534633908), (2, 0.0032147387400049037)]\n",
      "[0, 1, 2]\n",
      "[0, 1, 2]\n",
      "-2.750558853149414 6.642857074737549\n"
     ]
    },
    {
     "name": "stderr",
     "output_type": "stream",
     "text": [
      "/home/rtlink/anaconda3/lib/python3.10/site-packages/sklearn/cluster/_kmeans.py:870: FutureWarning: The default value of `n_init` will change from 10 to 'auto' in 1.4. Set the value of `n_init` explicitly to suppress the warning\n",
      "  warnings.warn(\n"
     ]
    },
    {
     "name": "stdout",
     "output_type": "stream",
     "text": [
      "length of images : 152\n",
      "length of mst :  152\n",
      "[7, 7, 6, 3, 7, 5, 6, 7, 7, 6, 6, 4, 6, 3, 2, 3, 1, 4, 6, 7, 7, 6, 5, 4, 2, 1, 6, 7, 5, 2, 4, 5, 5, 7, 7, 7, 7, 6, 6, 5, 4, 8, 6, 7, 5, 4, 6, 2, 4, 5, 4, 4, 5, 5, 6, 6, 7, 6, 5, 6, 5, 5, 6, 6, 6, 6, 7, 6, 4, 2, 3, 6, 8, 5, 5, 5, 4, 3, 5, 6, 5, 6, 7, 5, 4, 5, 6, 3, 2, 4, 5, 5, 5, 6, 6, 4, 3, 1, 6, 4, 5, 7, 4, 4, 6, 5, 8, 7, 5, 4, 6, 4, 7, 6, 5, 5, 5, 6, 8, 5, 6, 5, 4, 4, 5, 6, 2, 3, 7, 5, 6, 8, 6, 6, 5, 6, 6, 4, 6, 7, 5, 5, 6, 5, 3, 3, 3, 2, 1, 1, 1, 3]\n",
      "[(0, 6.462686567164179), (2, 4.627118644067797), (1, 2.230769230769231)]\n",
      "[(0, 0.0011841743870628937), (2, 0.0034219639530439234), (1, 0.0039767430532438265)]\n",
      "[0, 2, 1]\n",
      "[0, 2, 1]\n",
      "-2.8574514389038086 6.946022033691406\n"
     ]
    },
    {
     "name": "stderr",
     "output_type": "stream",
     "text": [
      "/home/rtlink/anaconda3/lib/python3.10/site-packages/sklearn/cluster/_kmeans.py:870: FutureWarning: The default value of `n_init` will change from 10 to 'auto' in 1.4. Set the value of `n_init` explicitly to suppress the warning\n",
      "  warnings.warn(\n"
     ]
    },
    {
     "name": "stdout",
     "output_type": "stream",
     "text": [
      "length of images : 119\n",
      "length of mst :  119\n",
      "[1, 6, 7, 4, 6, 6, 5, 6, 5, 6, 7, 6, 4, 6, 6, 2, 1, 1, 8, 5, 5, 5, 3, 7, 4, 6, 6, 6, 7, 6, 6, 2, 6, 5, 4, 5, 3, 4, 6, 5, 5, 7, 7, 7, 1, 2, 2, 1, 1, 3, 3, 5, 5, 4, 8, 6, 1, 5, 4, 2, 4, 5, 7, 6, 5, 5, 2, 2, 2, 7, 6, 4, 5, 2, 4, 6, 4, 5, 7, 6, 5, 5, 5, 3, 4, 3, 6, 4, 4, 5, 4, 4, 8, 3, 3, 5, 4, 5, 5, 6, 5, 4, 5, 3, 7, 3, 3, 4, 5, 1, 1, 7, 4, 5, 1, 1, 5, 2, 3]\n",
      "[(1, 6.486486486486487), (2, 4.591836734693878), (0, 2.0303030303030303)]\n",
      "[(1, 0.0014186918774927923), (2, 0.006099224363819149), (0, 0.008923589843613513)]\n",
      "[1, 2, 0]\n",
      "[1, 2, 0]\n",
      "-2.4260153770446777 25.908466339111328\n"
     ]
    },
    {
     "name": "stderr",
     "output_type": "stream",
     "text": [
      "/home/rtlink/anaconda3/lib/python3.10/site-packages/sklearn/cluster/_kmeans.py:870: FutureWarning: The default value of `n_init` will change from 10 to 'auto' in 1.4. Set the value of `n_init` explicitly to suppress the warning\n",
      "  warnings.warn(\n"
     ]
    },
    {
     "name": "stdout",
     "output_type": "stream",
     "text": [
      "length of images : 22\n",
      "length of mst :  22\n",
      "[5, 5, 6, 6, 8, 4, 5, 4, 6, 8, 7, 7, 6, 3, 5, 6, 5, 7, 5, 6, 3, 3]\n",
      "[(2, 7.4), (0, 5.5), (1, 3.4)]\n",
      "[(2, 0.0010273173066823033), (0, 0.0015600379611056718), (1, 0.01327668452130061)]\n",
      "[2, 0, 1]\n",
      "[2, 0, 1]\n",
      "-2.937342643737793 6.965668678283691\n"
     ]
    },
    {
     "name": "stderr",
     "output_type": "stream",
     "text": [
      "/home/rtlink/anaconda3/lib/python3.10/site-packages/sklearn/cluster/_kmeans.py:870: FutureWarning: The default value of `n_init` will change from 10 to 'auto' in 1.4. Set the value of `n_init` explicitly to suppress the warning\n",
      "  warnings.warn(\n"
     ]
    },
    {
     "name": "stdout",
     "output_type": "stream",
     "text": [
      "length of images : 50\n",
      "length of mst :  50\n",
      "[6, 6, 7, 6, 6, 7, 7, 5, 2, 4, 10, 2, 5, 5, 5, 9, 5, 6, 7, 7, 7, 3, 7, 4, 5, 6, 7, 9, 7, 5, 6, 1, 6, 4, 5, 6, 7, 6, 6, 6, 3, 2, 2, 6, 4, 1, 4, 5, 4, 4]\n",
      "[(0, 6.769230769230769), (2, 4.5625), (1, 2.0)]\n",
      "[(0, 0.005207464992552301), (1, 0.014721900520506242), (2, 0.016783964171540267)]\n",
      "[0, 2, 1]\n",
      "[0, 1, 2]\n",
      "-1.8040063381195068 5.039206504821777\n"
     ]
    },
    {
     "name": "stderr",
     "output_type": "stream",
     "text": [
      "/home/rtlink/anaconda3/lib/python3.10/site-packages/sklearn/cluster/_kmeans.py:870: FutureWarning: The default value of `n_init` will change from 10 to 'auto' in 1.4. Set the value of `n_init` explicitly to suppress the warning\n",
      "  warnings.warn(\n"
     ]
    },
    {
     "name": "stdout",
     "output_type": "stream",
     "text": [
      "length of images : 98\n",
      "length of mst :  98\n",
      "[6, 5, 4, 0, 2, 7, 6, 5, 6, 5, 6, 4, 5, 7, 6, 2, 3, 2, 6, 5, 6, 2, 4, 6, 6, 7, 4, 4, 3, 4, 5, 4, 5, 6, 10, 5, 5, 6, 6, 6, 5, 4, 5, 4, 6, 5, 3, 7, 6, 4, 4, 3, 3, 5, 5, 5, 8, 5, 6, 3, 5, 7, 1, 6, 5, 6, 7, 3, 7, 5, 4, 8, 6, 5, 4, 3, 3, 6, 3, 5, 7, 6, 5, 4, 3, 3, 4, 1, 6, 3, 6, 1, 4, 3, 3, 3, 4, 1]\n",
      "[(2, 6.470588235294118), (0, 4.564102564102564), (1, 2.4)]\n",
      "[(2, 0.0018705000232452531), (0, 0.003685068730986261), (1, 0.0042466925934409)]\n",
      "[2, 0, 1]\n",
      "[2, 0, 1]\n",
      "-2.162220001220703 6.882303237915039\n"
     ]
    },
    {
     "name": "stderr",
     "output_type": "stream",
     "text": [
      "/home/rtlink/anaconda3/lib/python3.10/site-packages/sklearn/cluster/_kmeans.py:870: FutureWarning: The default value of `n_init` will change from 10 to 'auto' in 1.4. Set the value of `n_init` explicitly to suppress the warning\n",
      "  warnings.warn(\n"
     ]
    },
    {
     "name": "stdout",
     "output_type": "stream",
     "text": [
      "length of images : 55\n",
      "length of mst :  55\n",
      "[8, 5, 5, 8, 5, 6, 6, 7, 7, 3, 3, 8, 7, 3, 6, 5, 1, 3, 4, 6, 5, 6, 8, 4, 1, 5, 7, 6, 5, 4, 8, 5, 6, 6, 2, 1, 5, 7, 2, 7, 4, 2, 3, 5, 3, 3, 4, 4, 3, 4, 4, 3, 1, 3, 4]\n",
      "[(1, 6.842105263157895), (0, 4.526315789473684), (2, 2.3529411764705883)]\n",
      "[(1, 0.0016213892644361917), (0, 0.009235657905854691), (2, 0.017086147934652875)]\n",
      "[1, 0, 2]\n",
      "[1, 0, 2]\n",
      "-2.6449742317199707 6.079961776733398\n"
     ]
    },
    {
     "name": "stderr",
     "output_type": "stream",
     "text": [
      "/home/rtlink/anaconda3/lib/python3.10/site-packages/sklearn/cluster/_kmeans.py:870: FutureWarning: The default value of `n_init` will change from 10 to 'auto' in 1.4. Set the value of `n_init` explicitly to suppress the warning\n",
      "  warnings.warn(\n"
     ]
    },
    {
     "name": "stdout",
     "output_type": "stream",
     "text": [
      "length of images : 51\n",
      "length of mst :  51\n",
      "[5, 6, 9, 6, 6, 1, 5, 6, 6, 6, 3, 5, 4, 5, 4, 5, 7, 6, 9, 5, 9, 6, 9, 6, 6, 9, 3, 3, 5, 7, 7, 8, 7, 5, 4, 6, 6, 3, 4, 4, 8, 3, 4, 3, 5, 2, 5, 1, 1, 5, 1]\n",
      "[(1, 8.090909090909092), (0, 5.206896551724138), (2, 2.1818181818181817)]\n",
      "[(1, 0.0027139530975026772), (0, 0.0039434038963871475), (2, 0.011567696726771893)]\n",
      "[1, 0, 2]\n",
      "[1, 0, 2]\n",
      "-3.3223280906677246 7.653062343597412\n"
     ]
    },
    {
     "name": "stderr",
     "output_type": "stream",
     "text": [
      "/home/rtlink/anaconda3/lib/python3.10/site-packages/sklearn/cluster/_kmeans.py:870: FutureWarning: The default value of `n_init` will change from 10 to 'auto' in 1.4. Set the value of `n_init` explicitly to suppress the warning\n",
      "  warnings.warn(\n"
     ]
    },
    {
     "name": "stdout",
     "output_type": "stream",
     "text": [
      "length of images : 44\n",
      "length of mst :  44\n",
      "[8, 3, 2, 3, 7, 9, 6, 6, 4, 4, 3, 5, 4, 3, 2, 10, 5, 7, 7, 6, 6, 6, 6, 6, 4, 5, 5, 5, 5, 4, 7, 2, 1, 8, 0, 3, 3, 4, 3, 3, 6, 3, 5, 1]\n",
      "[(0, 7.875), (2, 5.095238095238095), (1, 2.3333333333333335)]\n",
      "[(0, 0.0029351832917940165), (2, 0.0065747632261384924), (1, 0.018652487868379863)]\n",
      "[0, 2, 1]\n",
      "[0, 2, 1]\n",
      "Correlation between x1 and x2: -0.10490855690166483\n",
      "Correlation between y1 and y2: -0.46105833250406236\n",
      "Correlation between z1 and z2: -0.3469659244114352\n",
      "Percentage of PCD files with matching orders: 84.0%\n"
     ]
    },
    {
     "name": "stderr",
     "output_type": "stream",
     "text": [
      "/home/rtlink/anaconda3/lib/python3.10/site-packages/sklearn/cluster/_kmeans.py:870: FutureWarning: The default value of `n_init` will change from 10 to 'auto' in 1.4. Set the value of `n_init` explicitly to suppress the warning\n",
      "  warnings.warn(\n"
     ]
    }
   ],
   "source": [
    "def calculate_order_percentage(pcd_directory_path):\n",
    "    matching_count = 0\n",
    "    total_count = 0\n",
    "\n",
    "    x1_values, y1_values, z1_values = [], [], []\n",
    "    x2_values, y2_values, z2_values = [], [], []\n",
    "\n",
    "    pcd_files = list(Path(pcd_directory_path).glob('*.pcd'))[:50]\n",
    "    for pcd_file_path in pcd_files:\n",
    "        czm = CZM(str(pcd_file_path))\n",
    "        sectors, sector_indices = czm.segment_czm()\n",
    "        images, image_sector_indices = czm.process_sectors(sectors)\n",
    "        sorted_clusters, sector_cluster_mapping = czm.visualize_clusters(images, image_sector_indices, n_clusters=3, base_output_folder='output_clusters') # base_output_folder 추가\n",
    "        mean_cluster_z_variances = czm.calculate_cluster_z_variance(sectors, sector_cluster_mapping)\n",
    "\n",
    "        # sorted_clusters와 mean_cluster_z_variances의 첫 번째 항목 추출\n",
    "        sorted_clusters_order = [item[0] for item in sorted_clusters]\n",
    "        sorted_clusters_order_2 = [item[1] for item in sorted_clusters]\n",
    "        print(sorted_clusters_order)\n",
    "        mean_cluster_order = [item[0] for item in mean_cluster_z_variances]\n",
    "        mean_cluster_order_2 = [item[1] for item in mean_cluster_z_variances]\n",
    "        print(mean_cluster_order)\n",
    "\n",
    "        x1_values.append(sorted_clusters_order_2[0])\n",
    "        x2_values.append(mean_cluster_order_2[0]*100)\n",
    "        y1_values.append(sorted_clusters_order_2[1])\n",
    "        y2_values.append(mean_cluster_order_2[1]*100)\n",
    "        z1_values.append(sorted_clusters_order_2[2])\n",
    "        z2_values.append(mean_cluster_order_2[2]*100)\n",
    "\n",
    "\n",
    "        if sorted_clusters_order == mean_cluster_order:\n",
    "            matching_count += 1\n",
    "\n",
    "        total_count += 1\n",
    "\n",
    "    percentage = (matching_count / total_count) * 100\n",
    "\n",
    "    correlation_x = np.corrcoef(x1_values, x2_values)[0, 1]\n",
    "    print(f\"Correlation between x1 and x2: {correlation_x}\")\n",
    "\n",
    "    correlation_y = np.corrcoef(y1_values, y2_values)[0, 1]\n",
    "    print(f\"Correlation between y1 and y2: {correlation_y}\")\n",
    "\n",
    "    correlation_z = np.corrcoef(z1_values, z2_values)[0, 1]\n",
    "    print(f\"Correlation between z1 and z2: {correlation_z}\")\n",
    "\n",
    "    return percentage\n",
    "\n",
    "pcd_directory_path = \"/media/rtlink/JetsonSSD-256/Download/Rellis_3D_os1_cloud_node_color_ply/Rellis-3D/00000/os1_cloud_node_color_ply/pcd_files/\"\n",
    "percentage = calculate_order_percentage(pcd_directory_path)\n",
    "print(f\"Percentage of PCD files with matching orders: {percentage}%\")\n"
   ]
  },
  {
   "cell_type": "code",
   "execution_count": null,
   "metadata": {},
   "outputs": [],
   "source": []
  }
 ],
 "metadata": {
  "kernelspec": {
   "display_name": "base",
   "language": "python",
   "name": "python3"
  },
  "language_info": {
   "codemirror_mode": {
    "name": "ipython",
    "version": 3
   },
   "file_extension": ".py",
   "mimetype": "text/x-python",
   "name": "python",
   "nbconvert_exporter": "python",
   "pygments_lexer": "ipython3",
   "version": "3.10.11"
  },
  "orig_nbformat": 4
 },
 "nbformat": 4,
 "nbformat_minor": 2
}
