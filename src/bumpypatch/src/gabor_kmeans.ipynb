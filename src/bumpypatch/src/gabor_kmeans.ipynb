{
 "cells": [
  {
   "cell_type": "code",
   "execution_count": 1,
   "metadata": {},
   "outputs": [
    {
     "name": "stdout",
     "output_type": "stream",
     "text": [
      "Images have been clustered and saved in /home/rtlink/jiwon/paper_ws/clusters\n"
     ]
    }
   ],
   "source": [
    "import cv2\n",
    "import numpy as np\n",
    "from sklearn.cluster import KMeans\n",
    "import os\n",
    "\n",
    "def apply_gabor_filter(image, ksize, sigma, theta, lambd, gamma):\n",
    "    kernel = cv2.getGaborKernel((ksize, ksize), sigma, theta, lambd, gamma, 0)\n",
    "    return cv2.filter2D(image, -1, kernel)\n",
    "\n",
    "def extract_features(image):\n",
    "    # Apply Gabor filters with different orientations\n",
    "    thetas = [np.pi * i / 4 for i in range(4)]  # 0, 45, 90, 135 degrees\n",
    "    features = []\n",
    "    for theta in thetas:\n",
    "        filtered_image = apply_gabor_filter(image, ksize=7, sigma=1, theta=theta, lambd=7, gamma=0.5)\n",
    "        features.append(np.mean(filtered_image))\n",
    "        features.append(np.std(filtered_image))\n",
    "    return features\n",
    "\n",
    "# Read images from directory\n",
    "path = '/home/rtlink/jiwon/paper_ws/heightmaps_30'\n",
    "image_files = [os.path.join(path, f) for f in os.listdir(path) if os.path.isfile(os.path.join(path, f))]\n",
    "images = [cv2.imread(f, cv2.IMREAD_GRAYSCALE) for f in image_files]\n",
    "\n",
    "# Extract features from images\n",
    "X = [extract_features(img) for img in images]\n",
    "\n",
    "# Apply k-means clustering\n",
    "n_clusters = 5  # You can change this value depending on your needs\n",
    "kmeans = KMeans(n_clusters=n_clusters).fit(X)\n",
    "\n",
    "# Create new folders for clusters\n",
    "base_output_folder = '/home/rtlink/jiwon/paper_ws/분류 기준/clusters'\n",
    "if not os.path.exists(base_output_folder):\n",
    "    os.mkdir(base_output_folder)\n",
    "\n",
    "for i in range(n_clusters):\n",
    "    cluster_folder = os.path.join(base_output_folder, f\"cluster_{i}\")\n",
    "    if not os.path.exists(cluster_folder):\n",
    "        os.mkdir(cluster_folder)\n",
    "\n",
    "# Save images to respective clusters\n",
    "for i, label in enumerate(kmeans.labels_):\n",
    "    output_path = os.path.join(base_output_folder, f\"cluster_{label}\", os.path.basename(image_files[i]))\n",
    "    cv2.imwrite(output_path, images[i])\n",
    "\n",
    "print(f\"Images have been clustered and saved in {base_output_folder}\")\n"
   ]
  },
  {
   "cell_type": "markdown",
   "metadata": {},
   "source": []
  }
 ],
 "metadata": {
  "kernelspec": {
   "display_name": "Python 3",
   "language": "python",
   "name": "python3"
  },
  "language_info": {
   "codemirror_mode": {
    "name": "ipython",
    "version": 3
   },
   "file_extension": ".py",
   "mimetype": "text/x-python",
   "name": "python",
   "nbconvert_exporter": "python",
   "pygments_lexer": "ipython3",
   "version": "3.8.10"
  },
  "orig_nbformat": 4
 },
 "nbformat": 4,
 "nbformat_minor": 2
}
